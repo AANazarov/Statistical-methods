{
 "cells": [
  {
   "cell_type": "markdown",
   "metadata": {},
   "source": [
    "<img src = \"https://freepngimg.com/download/python_logo/7-2-python-logo-free-download-png-thumb.png\" width=\"50\"> </p>\n",
    "*Python 3.10.2*\n",
    "***\n",
    "## <font size=\"5\">*Alexander A. Nazarov, 2022*\n",
    "# <center> <font size=\"6\"> ***Расчет и анализ корреляционного отношения средствами Python </p>Calculation and analysis of the correlation ratio using Python***\n",
    "***"
   ]
  },
  {
   "cell_type": "code",
   "execution_count": 43,
   "metadata": {},
   "outputs": [],
   "source": [
    "import time\n",
    "start_time = time.time()"
   ]
  },
  {
   "cell_type": "markdown",
   "metadata": {},
   "source": [
    "Подключение модулей и библиотек:"
   ]
  },
  {
   "cell_type": "code",
   "execution_count": 44,
   "metadata": {},
   "outputs": [
    {
     "name": "stdout",
     "output_type": "stream",
     "text": [
      "Текущая версия Python:             3.10.2 \n",
      "\n",
      "Текущая версия модуля numpy:       1.22.2\n",
      "Текущая версия модуля scipy:       1.8.0\n",
      "Текущая версия модуля pandas:      1.4.1\n",
      "Текущая версия модуля matplotlib:  3.5.1\n",
      "Текущая версия модуля seaborn:     0.11.2\n",
      "Текущая версия модуля statsmodels: 0.13.2\n"
     ]
    }
   ],
   "source": [
    "# Стандартные модули и библиотеки\n",
    "\n",
    "import os    # загрузка модуля для работы с операционной системой\n",
    "import sys\n",
    "import platform\n",
    "print('{:<35}{:^0}'.format(\"Текущая версия Python: \", platform.python_version()), '\\n')\n",
    "\n",
    "import math\n",
    "from math import *    # подключаем все содержимое модуля math, используем без псевдонимов\n",
    "\n",
    "import numpy as np\n",
    "#print (\"Текущая версия модуля numpy: \", np.__version__)\n",
    "print('{:<35}{:^0}'.format(\"Текущая версия модуля numpy: \", np.__version__))\n",
    "from numpy import nan\n",
    "\n",
    "import scipy as sci\n",
    "print('{:<35}{:^0}'.format(\"Текущая версия модуля scipy: \", sci.__version__))\n",
    "import scipy.stats as sps\n",
    "\n",
    "import pandas as pd\n",
    "print('{:<35}{:^0}'.format(\"Текущая версия модуля pandas: \", pd.__version__))\n",
    "\n",
    "import matplotlib as mpl\n",
    "print('{:<35}{:^0}'.format(\"Текущая версия модуля matplotlib: \", mpl.__version__))\n",
    "import matplotlib.pyplot as plt\n",
    "\n",
    "import seaborn as sns\n",
    "print('{:<35}{:^0}'.format(\"Текущая версия модуля seaborn: \", sns.__version__))\n",
    "\n",
    "import statsmodels as sm\n",
    "print('{:<35}{:^0}'.format(\"Текущая версия модуля statsmodels: \", sm.__version__))\n",
    "\n",
    "import statistics as stat    # module 'statistics' has no attribute '__version__'\n",
    "\n",
    "# Настройки numpy\n",
    "np.set_printoptions(precision = 4, floatmode='fixed')\n",
    "\n",
    "# Настройки Pandas\n",
    "pd.set_option('display.max_colwidth', None)    # текст в ячейке отражался полностью вне зависимости от длины\n",
    "pd.set_option('display.float_format', lambda x: '%.4f' % x)\n",
    "\n",
    "# Настройки seaborn\n",
    "sns.set_style(\"darkgrid\")\n",
    "sns.set_context(context='paper', font_scale=1, rc=None)    # 'paper', 'notebook', 'talk', 'poster', None\n",
    "\n",
    "# Настройки Mathplotlib\n",
    "f_size = 8    # пользовательская переменная для задания базового размера шрифта\n",
    "plt.rcParams['figure.titlesize'] = f_size + 12    # шрифт заголовка\n",
    "plt.rcParams['axes.titlesize'] = f_size + 10      # шрифт заголовка\n",
    "plt.rcParams['axes.labelsize'] = f_size + 6       # шрифт подписей осей\n",
    "plt.rcParams['xtick.labelsize'] = f_size + 4      # шрифт подписей меток\n",
    "plt.rcParams['ytick.labelsize'] = f_size + 4\n",
    "plt.rcParams['legend.fontsize'] = f_size + 6      # шрифт легенды"
   ]
  },
  {
   "cell_type": "markdown",
   "metadata": {},
   "source": [
    "Прочие настройки:"
   ]
  },
  {
   "cell_type": "code",
   "execution_count": 45,
   "metadata": {},
   "outputs": [],
   "source": [
    "# Константы\n",
    "INCH = 25.4    # мм/дюйм\n",
    "DecPlace = 5    # number of decimal places - число знаков после запятой"
   ]
  },
  {
   "cell_type": "markdown",
   "metadata": {},
   "source": [
    "Доверительная вероятность и уровень значимости:"
   ]
  },
  {
   "cell_type": "code",
   "execution_count": 46,
   "metadata": {},
   "outputs": [],
   "source": [
    "p_level = 0.95\n",
    "a_level = 1 - p_level   "
   ]
  },
  {
   "cell_type": "markdown",
   "metadata": {},
   "source": [
    "### <center> <u> <font size=\"5\"> ***ПОСТАНОВКА ЗАДАЧИ***"
   ]
  },
  {
   "cell_type": "markdown",
   "metadata": {},
   "source": [
    "При статистическом анализе зависимостей между количественными переменными возникают ситуации, когда представляет интерес расчет и анализ такого показателя как **корреляционное отношение (η)**.\n",
    "\n",
    "Данный показатель незаслуженно обойден вниманием в большинстве доступных для пользователей математических пакетов. \n",
    "\n",
    "В данном разборе рассмотрим способы расчета и анализа **η** средствами **Python**.\n",
    "\n",
    "Не будем углубляться в теорию (про **η** достаточно подробно написано, например, в [1, с.73], [2, с.412], [3, с.609]), но вспомним основные свойства **η**:\n",
    "1. **η** характеризует степень тесноты **любой** корреляционной связи (как линейной, так и нелинейной), в отличие от коэффициента корреляции Пирсона **r**, который характеризует тесноту только **линейной** связи. Условие **r=0** означает отсутствие линейной корреляционной связи между величинами, но при этом между ними может существовать нелинейная корреляционная связь (**η>0**).\n",
    "2. **η** принимает значения от 0 до 1; при **η=0** корреляционная связь отсутствует, при **η=1** связь считается функциональной; степень тесноты связи можно оценивать по различным общепринятым шкалам, например, по шкале Чеддока и др.\n",
    "3. Величина **η²** характеризует долю вариации, объясненной корреляционной связью между рассматриваемыми переменными.\n",
    "4. **η** не может быть меньше абсолютной величины **r**: **η ≥ |r|**.\n",
    "5. **η** несимметрично по отношению к исследуемым переменным, то есть **η<font size=\"1\">XY<font size=\"4\"> ≠ η<font size=\"1\">YX<font size=\"4\">**.\n",
    "6. Для расчета **η** необходимо иметь эмпирические данные эксперимента с повторностями; если же мы имеем просто два набора значений переменных **X** и **Y**, то данные нужно группировать. Этот вывод, в общем-то, очевиден - если предпринять попытку рассчитать **η** по негруппированным данным, получим результат **η=1**.\n",
    "   \n",
    "Группировка данных для расчета **η** заключается в разбиении области значений переменных **X** и **Y** на интервалы, подсчет частот попадания данных в интервалы и формирование **корреляционной таблицы**.\n",
    "\n",
    "Итак, перейдем к расчетам."
   ]
  },
  {
   "cell_type": "markdown",
   "metadata": {},
   "source": [
    "### <center> <u> <font size=\"5\"> ***ФОРМИРОВАНИЕ ИСХОДНЫХ ДАННЫХ***"
   ]
  },
  {
   "cell_type": "markdown",
   "metadata": {},
   "source": [
    "В качестве исходных данных рассмотрим зависимость расхода **среднемесячного расхода топлива автомобиля (л/100 км) (FuelFlow)** от **среднемесячного пробега (км) (Mileage)**.\n",
    "\n",
    "Загрузим исходные данные из csv-файла."
   ]
  },
  {
   "cell_type": "code",
   "execution_count": 47,
   "metadata": {},
   "outputs": [
    {
     "data": {
      "text/html": [
       "<div>\n",
       "<style scoped>\n",
       "    .dataframe tbody tr th:only-of-type {\n",
       "        vertical-align: middle;\n",
       "    }\n",
       "\n",
       "    .dataframe tbody tr th {\n",
       "        vertical-align: top;\n",
       "    }\n",
       "\n",
       "    .dataframe thead th {\n",
       "        text-align: right;\n",
       "    }\n",
       "</style>\n",
       "<table border=\"1\" class=\"dataframe\">\n",
       "  <thead>\n",
       "    <tr style=\"text-align: right;\">\n",
       "      <th></th>\n",
       "      <th>Date</th>\n",
       "      <th>Mileage</th>\n",
       "      <th>Temperature</th>\n",
       "      <th>FuelFlow</th>\n",
       "    </tr>\n",
       "    <tr>\n",
       "      <th>Number</th>\n",
       "      <th></th>\n",
       "      <th></th>\n",
       "      <th></th>\n",
       "      <th></th>\n",
       "    </tr>\n",
       "  </thead>\n",
       "  <tbody>\n",
       "    <tr>\n",
       "      <th>0</th>\n",
       "      <td>2018-06-30</td>\n",
       "      <td>696.8000</td>\n",
       "      <td>15.2000</td>\n",
       "      <td>10.0800</td>\n",
       "    </tr>\n",
       "    <tr>\n",
       "      <th>1</th>\n",
       "      <td>2018-07-31</td>\n",
       "      <td>2751.5000</td>\n",
       "      <td>19.4000</td>\n",
       "      <td>8.9100</td>\n",
       "    </tr>\n",
       "    <tr>\n",
       "      <th>2</th>\n",
       "      <td>2018-08-31</td>\n",
       "      <td>1308.7000</td>\n",
       "      <td>17.9000</td>\n",
       "      <td>7.4500</td>\n",
       "    </tr>\n",
       "    <tr>\n",
       "      <th>3</th>\n",
       "      <td>2018-09-30</td>\n",
       "      <td>837.4000</td>\n",
       "      <td>12.7000</td>\n",
       "      <td>9.1700</td>\n",
       "    </tr>\n",
       "    <tr>\n",
       "      <th>4</th>\n",
       "      <td>2018-10-31</td>\n",
       "      <td>2130.8000</td>\n",
       "      <td>5.6000</td>\n",
       "      <td>8.2000</td>\n",
       "    </tr>\n",
       "  </tbody>\n",
       "</table>\n",
       "</div>"
      ],
      "text/plain": [
       "              Date   Mileage  Temperature  FuelFlow\n",
       "Number                                             \n",
       "0       2018-06-30  696.8000      15.2000   10.0800\n",
       "1       2018-07-31 2751.5000      19.4000    8.9100\n",
       "2       2018-08-31 1308.7000      17.9000    7.4500\n",
       "3       2018-09-30  837.4000      12.7000    9.1700\n",
       "4       2018-10-31 2130.8000       5.6000    8.2000"
      ]
     },
     "metadata": {},
     "output_type": "display_data"
    },
    {
     "name": "stdout",
     "output_type": "stream",
     "text": [
      "<class 'pandas.core.frame.DataFrame'>\n",
      "Int64Index: 49 entries, 0 to 49\n",
      "Data columns (total 4 columns):\n",
      " #   Column       Non-Null Count  Dtype  \n",
      "---  ------       --------------  -----  \n",
      " 0   Date         49 non-null     object \n",
      " 1   Mileage      49 non-null     float64\n",
      " 2   Temperature  49 non-null     float64\n",
      " 3   FuelFlow     49 non-null     float64\n",
      "dtypes: float64(3), object(1)\n",
      "memory usage: 1.9+ KB\n"
     ]
    }
   ],
   "source": [
    "fuel_df = pd.read_csv(\n",
    "    filepath_or_buffer='data/fuel_df.csv',\n",
    "    sep=';',\n",
    "    index_col='Number')\n",
    "dataset_df = fuel_df.copy()    # создаем копию исходной таблицы для работы\n",
    "display(dataset_df.head())\n",
    "dataset_df.info()"
   ]
  },
  {
   "cell_type": "markdown",
   "metadata": {},
   "source": [
    "Среднемесячный пробег (км):"
   ]
  },
  {
   "cell_type": "code",
   "execution_count": 48,
   "metadata": {},
   "outputs": [
    {
     "name": "stdout",
     "output_type": "stream",
     "text": [
      "[ 696.8000 2751.5000 1308.7000  837.4000 2130.8000  704.0000  666.3000\n",
      "  840.5000  642.0000  900.0000  642.0000 1130.0000  740.0000 1025.0000\n",
      " 1009.0000 2187.0000 2069.0000  377.0000  393.0000  600.0000  791.0000\n",
      "  475.0000  265.0000 1334.0000 1079.0000 1229.0000 1335.0000   37.0000\n",
      "  235.0000  803.0000  575.0000  558.0000  792.0000 1515.0000  878.0000\n",
      "  733.0000 1379.0000 1534.0000 1025.0000 1236.0000  602.0000 1032.0000\n",
      "  960.0000  593.0000  976.0000  800.0000  838.0000  971.0000 1114.0000]\n"
     ]
    }
   ],
   "source": [
    "X = np.array(dataset_df['Mileage'])\n",
    "print(X)"
   ]
  },
  {
   "cell_type": "markdown",
   "metadata": {},
   "source": [
    "Среднемесячный расход топлива автомобиля (л/100 км):"
   ]
  },
  {
   "cell_type": "code",
   "execution_count": 49,
   "metadata": {},
   "outputs": [
    {
     "name": "stdout",
     "output_type": "stream",
     "text": [
      "[10.0800  8.9100  7.4500  9.1700  8.2000 10.3000 12.0100 10.1700 11.4900\n",
      "  9.7200  9.7400  8.8500  8.4500  9.1500  8.6700  7.7200  7.7300 11.6000\n",
      " 10.9500 11.0400  9.9600 10.8500  8.9600  6.0800 10.2600  9.5700  9.1800\n",
      " 16.8900 12.7700 10.4300 11.3000 12.9900  9.9400  7.9600  8.9700  9.7200\n",
      "  8.9700  8.5600 10.0000  8.1900 11.0000  7.8700 10.0300 11.1700  9.0900\n",
      "  9.6900  8.6500  9.9100  9.6500]\n"
     ]
    }
   ],
   "source": [
    "Y = np.array(dataset_df['FuelFlow'])\n",
    "print(Y)"
   ]
  },
  {
   "cell_type": "markdown",
   "metadata": {},
   "source": [
    "Для удобства дальнейшей работы сформируем сформируем отдельный DataFrame из двух переменных - **X** и **Y**:"
   ]
  },
  {
   "cell_type": "code",
   "execution_count": 50,
   "metadata": {},
   "outputs": [
    {
     "data": {
      "text/html": [
       "<div>\n",
       "<style scoped>\n",
       "    .dataframe tbody tr th:only-of-type {\n",
       "        vertical-align: middle;\n",
       "    }\n",
       "\n",
       "    .dataframe tbody tr th {\n",
       "        vertical-align: top;\n",
       "    }\n",
       "\n",
       "    .dataframe thead th {\n",
       "        text-align: right;\n",
       "    }\n",
       "</style>\n",
       "<table border=\"1\" class=\"dataframe\">\n",
       "  <thead>\n",
       "    <tr style=\"text-align: right;\">\n",
       "      <th></th>\n",
       "      <th>X</th>\n",
       "      <th>Y</th>\n",
       "    </tr>\n",
       "  </thead>\n",
       "  <tbody>\n",
       "    <tr>\n",
       "      <th>0</th>\n",
       "      <td>696.8000</td>\n",
       "      <td>10.0800</td>\n",
       "    </tr>\n",
       "    <tr>\n",
       "      <th>1</th>\n",
       "      <td>2751.5000</td>\n",
       "      <td>8.9100</td>\n",
       "    </tr>\n",
       "    <tr>\n",
       "      <th>2</th>\n",
       "      <td>1308.7000</td>\n",
       "      <td>7.4500</td>\n",
       "    </tr>\n",
       "    <tr>\n",
       "      <th>3</th>\n",
       "      <td>837.4000</td>\n",
       "      <td>9.1700</td>\n",
       "    </tr>\n",
       "    <tr>\n",
       "      <th>4</th>\n",
       "      <td>2130.8000</td>\n",
       "      <td>8.2000</td>\n",
       "    </tr>\n",
       "  </tbody>\n",
       "</table>\n",
       "</div>"
      ],
      "text/plain": [
       "          X       Y\n",
       "0  696.8000 10.0800\n",
       "1 2751.5000  8.9100\n",
       "2 1308.7000  7.4500\n",
       "3  837.4000  9.1700\n",
       "4 2130.8000  8.2000"
      ]
     },
     "metadata": {},
     "output_type": "display_data"
    }
   ],
   "source": [
    "data_XY_df = pd.DataFrame({\n",
    "    'X': X,\n",
    "    'Y': Y})\n",
    "display(data_XY_df.head())"
   ]
  },
  {
   "cell_type": "markdown",
   "metadata": {},
   "source": [
    "Настройка заголовков отчета:"
   ]
  },
  {
   "cell_type": "code",
   "execution_count": 51,
   "metadata": {},
   "outputs": [],
   "source": [
    "# Общий заголовок проекта\n",
    "Task_Project = \"Расчет и анализ корреляционного отношения средствами Python\"\n",
    "# Заголовок, фиксирующий момент времени\n",
    "AsOfTheDate = \"\"\n",
    "# Заголовок раздела проекта\n",
    "Task_Theme = \"Анализ расхода топлива автомобиля\"\n",
    "# Общий заголовок проекта для графиков\n",
    "Title_String = f\"{Task_Project}\\n{AsOfTheDate}\"\n",
    "# Наименования переменных\n",
    "Variable_Name_X = \"Среднемесячный пробег (км)\"\n",
    "Variable_Name_Y = \"Среднемесячный расход топлива автомобиля (л/100 км)\""
   ]
  },
  {
   "cell_type": "markdown",
   "metadata": {},
   "source": [
    "### <center> <u> <font size=\"5\"> ***ВИЗУАЛИЗАЦИЯ И ПЕРВИЧНАЯ ОБРАБОТКА ДАННЫХ***"
   ]
  },
  {
   "cell_type": "markdown",
   "metadata": {},
   "source": [
    "Предварительно отсеем аномальные значения (выбросы). Подробно не будем останавливаться на этой процедуре, она не является целью данного разбора."
   ]
  },
  {
   "cell_type": "code",
   "execution_count": 52,
   "metadata": {},
   "outputs": [],
   "source": [
    "mask1 = data_XY_df['X'] > 200\n",
    "mask2 = data_XY_df['X'] < 2000\n",
    "data_XY_df = data_XY_df[mask1 & mask2]\n",
    "\n",
    "X = np.array(data_XY_df['X'])\n",
    "Y = np.array(data_XY_df['Y'])"
   ]
  },
  {
   "cell_type": "markdown",
   "metadata": {},
   "source": [
    "Описательная статистика исходных данных:"
   ]
  },
  {
   "cell_type": "code",
   "execution_count": 53,
   "metadata": {},
   "outputs": [
    {
     "data": {
      "text/html": [
       "<div>\n",
       "<style scoped>\n",
       "    .dataframe tbody tr th:only-of-type {\n",
       "        vertical-align: middle;\n",
       "    }\n",
       "\n",
       "    .dataframe tbody tr th {\n",
       "        vertical-align: top;\n",
       "    }\n",
       "\n",
       "    .dataframe thead th {\n",
       "        text-align: right;\n",
       "    }\n",
       "</style>\n",
       "<table border=\"1\" class=\"dataframe\">\n",
       "  <thead>\n",
       "    <tr style=\"text-align: right;\">\n",
       "      <th></th>\n",
       "      <th>X</th>\n",
       "      <th>Y</th>\n",
       "    </tr>\n",
       "  </thead>\n",
       "  <tbody>\n",
       "    <tr>\n",
       "      <th>count</th>\n",
       "      <td>44.0000</td>\n",
       "      <td>44.0000</td>\n",
       "    </tr>\n",
       "    <tr>\n",
       "      <th>mean</th>\n",
       "      <td>867.4705</td>\n",
       "      <td>9.7855</td>\n",
       "    </tr>\n",
       "    <tr>\n",
       "      <th>std</th>\n",
       "      <td>318.5176</td>\n",
       "      <td>1.3686</td>\n",
       "    </tr>\n",
       "    <tr>\n",
       "      <th>min</th>\n",
       "      <td>235.0000</td>\n",
       "      <td>6.0800</td>\n",
       "    </tr>\n",
       "    <tr>\n",
       "      <th>25%</th>\n",
       "      <td>642.0000</td>\n",
       "      <td>8.9675</td>\n",
       "    </tr>\n",
       "    <tr>\n",
       "      <th>50%</th>\n",
       "      <td>837.7000</td>\n",
       "      <td>9.7300</td>\n",
       "    </tr>\n",
       "    <tr>\n",
       "      <th>75%</th>\n",
       "      <td>1043.7500</td>\n",
       "      <td>10.5350</td>\n",
       "    </tr>\n",
       "    <tr>\n",
       "      <th>max</th>\n",
       "      <td>1534.0000</td>\n",
       "      <td>12.9900</td>\n",
       "    </tr>\n",
       "  </tbody>\n",
       "</table>\n",
       "</div>"
      ],
      "text/plain": [
       "              X       Y\n",
       "count   44.0000 44.0000\n",
       "mean   867.4705  9.7855\n",
       "std    318.5176  1.3686\n",
       "min    235.0000  6.0800\n",
       "25%    642.0000  8.9675\n",
       "50%    837.7000  9.7300\n",
       "75%   1043.7500 10.5350\n",
       "max   1534.0000 12.9900"
      ]
     },
     "execution_count": 53,
     "metadata": {},
     "output_type": "execute_result"
    }
   ],
   "source": [
    "data_XY_df.describe()"
   ]
  },
  {
   "cell_type": "markdown",
   "metadata": {},
   "source": [
    "Выполним визуализацию исходных данных:"
   ]
  },
  {
   "cell_type": "code",
   "execution_count": 54,
   "metadata": {},
   "outputs": [
    {
     "data": {
      "image/png": "[encoded data removed]",
      "text/plain": [
       "<Figure size 841.89x595.276 with 1 Axes>"
      ]
     },
     "metadata": {},
     "output_type": "display_data"
    }
   ],
   "source": [
    "fig, axes = plt.subplots(figsize=(297/INCH, 210/INCH))\n",
    "fig.suptitle(Task_Theme)\n",
    "axes.set_title('Зависимость расхода топлива от пробега')\n",
    "data_df = data_XY_df\n",
    "sns.scatterplot(\n",
    "    data=data_df,\n",
    "    x='X', y='Y',\n",
    "    label='эмпирические данные',\n",
    "    s=50,\n",
    "    ax=axes)\n",
    "axes.set_xlabel(Variable_Name_X)\n",
    "axes.set_ylabel(Variable_Name_Y)\n",
    "#axes.tick_params(axis=\"x\", labelsize=f_size+4)\n",
    "#axes.tick_params(axis=\"y\", labelsize=f_size+4)\n",
    "#axes.legend(prop={'size': f_size+6})\n",
    "plt.show()\n",
    "fig.savefig('graph/scatterplot_XY_sns.png', orientation = \"portrait\", dpi = 300)"
   ]
  },
  {
   "cell_type": "markdown",
   "metadata": {},
   "source": [
    "Для визуальной оценки выборочных данных построим гистограммы и коробчатые диаграммы:"
   ]
  },
  {
   "cell_type": "code",
   "execution_count": 55,
   "metadata": {},
   "outputs": [
    {
     "data": {
      "image/png": "[encoded data removed]",
      "text/plain": [
       "<Figure size 1190.55x841.89 with 4 Axes>"
      ]
     },
     "metadata": {},
     "output_type": "display_data"
    }
   ],
   "source": [
    "fig = plt.figure(figsize=(420/INCH, 297/INCH))\n",
    "ax1 = plt.subplot(2,2,1)\n",
    "ax2 = plt.subplot(2,2,2)\n",
    "ax3 = plt.subplot(2,2,3)\n",
    "ax4 = plt.subplot(2,2,4)\n",
    "fig.suptitle(Task_Theme)\n",
    "ax1.set_title('X')\n",
    "ax2.set_title('Y')\n",
    "\n",
    "# инициализация данных\n",
    "data_df = data_XY_df\n",
    "X_mean = data_df['X'].mean()\n",
    "X_std = data_df['X'].std(ddof = 1)\n",
    "Y_mean = data_df['Y'].mean()\n",
    "Y_std = data_df['Y'].std(ddof = 1)\n",
    "bins_hist = 'sturges'    # выбор числа интервалов ('auto', 'fd', 'doane', 'scott', 'stone', 'rice', 'sturges', 'sqrt')\n",
    "\n",
    "# данные для графика плотности распределения X\n",
    "xmin = np.amin(data_df['X'])\n",
    "xmax = np.amax(data_df['X'])\n",
    "nx = 100\n",
    "hx = (xmax - xmin)/(nx - 1)\n",
    "x1 = np.linspace(xmin, xmax, nx)\n",
    "xnorm1 = sps.norm.pdf(x1, X_mean, X_std)\n",
    "kx = len(np.histogram(X, bins=bins_hist, density=False)[0])\n",
    "xnorm2 = xnorm1*len(X)*(xmax-xmin)/kx\n",
    "\n",
    "# данные для графика плотности распределения Y\n",
    "ymin = np.amin(Y)\n",
    "ymax = np.amax(Y)\n",
    "ny = 100\n",
    "hy = (ymax - ymin)/(ny - 1)\n",
    "y1 = np.linspace(ymin, ymax, ny)\n",
    "ynorm1 = sps.norm.pdf(y1, Y_mean, Y_std)\n",
    "ky = len(np.histogram(Y, bins=bins_hist, density=False)[0])\n",
    "ynorm2 = ynorm1*len(Y)*(ymax-ymin)/ky\n",
    "\n",
    "# гистограмма распределения X\n",
    "ax1.hist(\n",
    "    data_df['X'],\n",
    "    bins=bins_hist,\n",
    "    density=False,\n",
    "    histtype='bar',    # 'bar', 'barstacked', 'step', 'stepfilled'\n",
    "    orientation='vertical',   # 'vertical', 'horizontal'\n",
    "    color = \"#1f77b4\",\n",
    "    label='эмпирическая частота')\n",
    "ax1.plot(\n",
    "    x1, xnorm2,\n",
    "    linestyle = \"-\",\n",
    "    color = \"r\",\n",
    "    linewidth = 2,\n",
    "    label = 'теоретическая нормальная кривая')\n",
    "ax1.axvline(X_mean, color='magenta', label = 'среднее значение')\n",
    "ax1.axvline(np.median(data_df['X']), color='orange', label = 'медиана')\n",
    "ax1.legend(fontsize = f_size+4)\n",
    "\n",
    "# гистограмма распределения Y\n",
    "ax2.hist(\n",
    "    data_df['Y'],\n",
    "    bins=bins_hist,\n",
    "    density=False,\n",
    "    histtype='bar',    # 'bar', 'barstacked', 'step', 'stepfilled'\n",
    "    orientation='vertical',   # 'vertical', 'horizontal'\n",
    "    color = \"#1f77b4\",\n",
    "    label='эмпирическая частота')    \n",
    "ax2.plot(\n",
    "    y1, ynorm2,\n",
    "    linestyle = \"-\",\n",
    "    color = \"r\",\n",
    "    linewidth = 2,\n",
    "    label = 'теоретическая нормальная кривая')\n",
    "ax2.axvline(Y_mean, color='magenta', label = 'среднее значение')\n",
    "ax2.axvline(np.median(data_df['Y']), color='orange', label = 'медиана')\n",
    "ax2.legend(fontsize = f_size+4)\n",
    "\n",
    "# коробчатая диаграмма X\n",
    "sns.boxplot(\n",
    "    #data=corn_yield_df,\n",
    "    x=data_df['X'],\n",
    "    orient='h',\n",
    "    width=0.3,\n",
    "    ax=ax3)\n",
    "\n",
    "# коробчатая диаграмма Y\n",
    "sns.boxplot(\n",
    "    #data=corn_yield_df, \n",
    "    x=data_df['Y'], \n",
    "    orient='h', \n",
    "    width=0.3, \n",
    "    ax=ax4)\n",
    "\n",
    "# подписи осей \n",
    "ax3.set_xlabel(Variable_Name_X)\n",
    "ax4.set_xlabel(Variable_Name_Y)\n",
    "\n",
    "plt.show()\n",
    "fig.savefig('graph/scatterplot_boxplot_X_Y_sns.png', orientation = \"portrait\", dpi = 300)"
   ]
  },
  {
   "cell_type": "markdown",
   "metadata": {},
   "source": [
    "Перед тем, как приступать к дальнейшим расчетам, проверим исходные данные на соответствие нормальному закону распределения по критерию Шапиро-Уилка:"
   ]
  },
  {
   "cell_type": "code",
   "execution_count": 56,
   "metadata": {},
   "outputs": [],
   "source": [
    "# функция для обработки реализации теста Шапиро-Уилка\n",
    "def Shapiro_Wilk_test(data):\n",
    "    data = np.array(data)\n",
    "    result = sci.stats.shapiro(data)\n",
    "    s_calc = result.statistic    # расчетное значение статистики критерия\n",
    "    a_calc = result.pvalue    # расчетный уровень значимости\n",
    "    \n",
    "    print(f\"Расчетный уровень значимости: a_calc = {round(a_calc, DecPlace)}\")\n",
    "    print(f\"Заданный уровень значимости: a_level = {round(a_level, DecPlace)}\")\n",
    "    \n",
    "    if a_calc >= a_level:\n",
    "        conclusion_ShW_test = f\"Так как a_calc = {round(a_calc, DecPlace)} >= a_level = {round(a_level, DecPlace)}\" + \\\n",
    "            \", то гипотеза о нормальности распределения по критерию Шапиро-Уилка ПРИНИМАЕТСЯ\"\n",
    "    else:\n",
    "        conclusion_ShW_test = f\"Так как a_calc = {round(a_calc, DecPlace)} < a_level = {round(a_level, DecPlace)}\" + \\\n",
    "            \", то гипотеза о нормальности распределения по критерию Шапиро-Уилка ОТВЕРГАЕТСЯ\"\n",
    "    print(conclusion_ShW_test)"
   ]
  },
  {
   "cell_type": "code",
   "execution_count": 57,
   "metadata": {},
   "outputs": [
    {
     "name": "stdout",
     "output_type": "stream",
     "text": [
      "Расчетный уровень значимости: a_calc = 0.78034\n",
      "Заданный уровень значимости: a_level = 0.05\n",
      "Так как a_calc = 0.78034 >= a_level = 0.05, то гипотеза о нормальности распределения по критерию Шапиро-Уилка ПРИНИМАЕТСЯ\n"
     ]
    }
   ],
   "source": [
    "# проверка нормальности распределения переменной X\n",
    "Shapiro_Wilk_test(X)"
   ]
  },
  {
   "cell_type": "code",
   "execution_count": 58,
   "metadata": {},
   "outputs": [
    {
     "name": "stdout",
     "output_type": "stream",
     "text": [
      "Расчетный уровень значимости: a_calc = 0.86505\n",
      "Заданный уровень значимости: a_level = 0.05\n",
      "Так как a_calc = 0.86505 >= a_level = 0.05, то гипотеза о нормальности распределения по критерию Шапиро-Уилка ПРИНИМАЕТСЯ\n"
     ]
    }
   ],
   "source": [
    "# проверка нормальности распределения переменной Y\n",
    "Shapiro_Wilk_test(Y)"
   ]
  },
  {
   "cell_type": "markdown",
   "metadata": {},
   "source": [
    "Итак, гипотеза о нормальном распределении исходных данных принимается, что позволяет нам в дальнейшем пользоваться статистическим инструментарием для интервального оценивания величины **η**, проверки гипотез и т.д.\n",
    "\n",
    "Переходим собственно к расчету корреляционного отношения."
   ]
  },
  {
   "cell_type": "markdown",
   "metadata": {},
   "source": [
    "### <center> <u> <font size=\"5\"> ***РАСЧЕТ И АНАЛИЗ КОРРЕЛЯЦИОННОГО ОТНОШЕНИЯ***"
   ]
  },
  {
   "cell_type": "markdown",
   "metadata": {},
   "source": [
    "<u>1. Выполним группировку исходных данным по обоим признакам X и Y:</u>"
   ]
  },
  {
   "cell_type": "markdown",
   "metadata": {},
   "source": [
    "Создадим новую переменную **matrix_XY_df** для работы с группированными данными:"
   ]
  },
  {
   "cell_type": "code",
   "execution_count": 59,
   "metadata": {},
   "outputs": [],
   "source": [
    "matrix_XY_df = data_XY_df.copy()"
   ]
  },
  {
   "cell_type": "markdown",
   "metadata": {},
   "source": [
    "Определим число интервалов группировки (воспользуемся формулой Стерджесса); при этом минимальное число интервалов должно быть не менее 2:"
   ]
  },
  {
   "cell_type": "code",
   "execution_count": 60,
   "metadata": {},
   "outputs": [
    {
     "name": "stdout",
     "output_type": "stream",
     "text": [
      "Число интервалов группировки для переменной X: 6\n",
      "Число интервалов группировки для переменной Y: 6\n"
     ]
    }
   ],
   "source": [
    "# объем выборки для переменных X и Y\n",
    "n_X = len(X)\n",
    "n_Y = len(Y)\n",
    "\n",
    "# число интервалов группировки\n",
    "group_int_number = lambda n: round (3.31*log(n_X, 10)+1) if round (3.31*log(n_X, 10)+1) >=2 else 2\n",
    "\n",
    "K_X = group_int_number(n_X)\n",
    "K_Y = group_int_number(n_Y)\n",
    "print(f\"Число интервалов группировки для переменной X: {K_X}\")\n",
    "print(f\"Число интервалов группировки для переменной Y: {K_Y}\")"
   ]
  },
  {
   "cell_type": "markdown",
   "metadata": {},
   "source": [
    "Выполним группировку данных средствами библиотеки **pandas**, для этого воспользуемся функцией **pandas.cut**. В результате получим новые признаки **cut_X** и **cut_X**, которые показывают, в какой из интервалов попадает конкретное значение **X** и **Y**. Полученные новые признаки добавим в DataFrame **matrix_XY_df**:"
   ]
  },
  {
   "cell_type": "code",
   "execution_count": 61,
   "metadata": {},
   "outputs": [
    {
     "data": {
      "text/html": [
       "<div>\n",
       "<style scoped>\n",
       "    .dataframe tbody tr th:only-of-type {\n",
       "        vertical-align: middle;\n",
       "    }\n",
       "\n",
       "    .dataframe tbody tr th {\n",
       "        vertical-align: top;\n",
       "    }\n",
       "\n",
       "    .dataframe thead th {\n",
       "        text-align: right;\n",
       "    }\n",
       "</style>\n",
       "<table border=\"1\" class=\"dataframe\">\n",
       "  <thead>\n",
       "    <tr style=\"text-align: right;\">\n",
       "      <th></th>\n",
       "      <th>X</th>\n",
       "      <th>Y</th>\n",
       "      <th>cut_X</th>\n",
       "      <th>cut_Y</th>\n",
       "    </tr>\n",
       "  </thead>\n",
       "  <tbody>\n",
       "    <tr>\n",
       "      <th>0</th>\n",
       "      <td>696.8000</td>\n",
       "      <td>10.0800</td>\n",
       "      <td>(668.0, 884.5]</td>\n",
       "      <td>(9.535, 10.687]</td>\n",
       "    </tr>\n",
       "    <tr>\n",
       "      <th>2</th>\n",
       "      <td>1308.7000</td>\n",
       "      <td>7.4500</td>\n",
       "      <td>(1101.0, 1317.5]</td>\n",
       "      <td>(7.232, 8.383]</td>\n",
       "    </tr>\n",
       "    <tr>\n",
       "      <th>3</th>\n",
       "      <td>837.4000</td>\n",
       "      <td>9.1700</td>\n",
       "      <td>(668.0, 884.5]</td>\n",
       "      <td>(8.383, 9.535]</td>\n",
       "    </tr>\n",
       "    <tr>\n",
       "      <th>5</th>\n",
       "      <td>704.0000</td>\n",
       "      <td>10.3000</td>\n",
       "      <td>(668.0, 884.5]</td>\n",
       "      <td>(9.535, 10.687]</td>\n",
       "    </tr>\n",
       "    <tr>\n",
       "      <th>6</th>\n",
       "      <td>666.3000</td>\n",
       "      <td>12.0100</td>\n",
       "      <td>(451.5, 668.0]</td>\n",
       "      <td>(11.838, 12.99]</td>\n",
       "    </tr>\n",
       "  </tbody>\n",
       "</table>\n",
       "</div>"
      ],
      "text/plain": [
       "          X       Y             cut_X            cut_Y\n",
       "0  696.8000 10.0800    (668.0, 884.5]  (9.535, 10.687]\n",
       "2 1308.7000  7.4500  (1101.0, 1317.5]   (7.232, 8.383]\n",
       "3  837.4000  9.1700    (668.0, 884.5]   (8.383, 9.535]\n",
       "5  704.0000 10.3000    (668.0, 884.5]  (9.535, 10.687]\n",
       "6  666.3000 12.0100    (451.5, 668.0]  (11.838, 12.99]"
      ]
     },
     "metadata": {},
     "output_type": "display_data"
    }
   ],
   "source": [
    "cut_X = pd.cut(X, bins=K_X)\n",
    "cut_Y = pd.cut(Y, bins=K_Y)\n",
    "\n",
    "matrix_XY_df['cut_X'] = cut_X\n",
    "matrix_XY_df['cut_Y'] = cut_Y\n",
    "\n",
    "display(matrix_XY_df.head())"
   ]
  },
  {
   "cell_type": "markdown",
   "metadata": {},
   "source": [
    "Теперь мы можем получить корреляционную таблицу с помощью функции **pandas.crosstab**:"
   ]
  },
  {
   "cell_type": "code",
   "execution_count": 62,
   "metadata": {},
   "outputs": [
    {
     "data": {
      "text/html": [
       "<div>\n",
       "<style scoped>\n",
       "    .dataframe tbody tr th:only-of-type {\n",
       "        vertical-align: middle;\n",
       "    }\n",
       "\n",
       "    .dataframe tbody tr th {\n",
       "        vertical-align: top;\n",
       "    }\n",
       "\n",
       "    .dataframe thead th {\n",
       "        text-align: right;\n",
       "    }\n",
       "</style>\n",
       "<table border=\"1\" class=\"dataframe\">\n",
       "  <thead>\n",
       "    <tr style=\"text-align: right;\">\n",
       "      <th>cut_Y</th>\n",
       "      <th>(6.073, 7.232]</th>\n",
       "      <th>(7.232, 8.383]</th>\n",
       "      <th>(8.383, 9.535]</th>\n",
       "      <th>(9.535, 10.687]</th>\n",
       "      <th>(10.687, 11.838]</th>\n",
       "      <th>(11.838, 12.99]</th>\n",
       "    </tr>\n",
       "    <tr>\n",
       "      <th>cut_X</th>\n",
       "      <th></th>\n",
       "      <th></th>\n",
       "      <th></th>\n",
       "      <th></th>\n",
       "      <th></th>\n",
       "      <th></th>\n",
       "    </tr>\n",
       "  </thead>\n",
       "  <tbody>\n",
       "    <tr>\n",
       "      <th>(233.701, 451.5]</th>\n",
       "      <td>0</td>\n",
       "      <td>0</td>\n",
       "      <td>1</td>\n",
       "      <td>0</td>\n",
       "      <td>2</td>\n",
       "      <td>1</td>\n",
       "    </tr>\n",
       "    <tr>\n",
       "      <th>(451.5, 668.0]</th>\n",
       "      <td>0</td>\n",
       "      <td>0</td>\n",
       "      <td>0</td>\n",
       "      <td>1</td>\n",
       "      <td>6</td>\n",
       "      <td>2</td>\n",
       "    </tr>\n",
       "    <tr>\n",
       "      <th>(668.0, 884.5]</th>\n",
       "      <td>0</td>\n",
       "      <td>0</td>\n",
       "      <td>4</td>\n",
       "      <td>8</td>\n",
       "      <td>0</td>\n",
       "      <td>0</td>\n",
       "    </tr>\n",
       "    <tr>\n",
       "      <th>(884.5, 1101.0]</th>\n",
       "      <td>0</td>\n",
       "      <td>1</td>\n",
       "      <td>3</td>\n",
       "      <td>5</td>\n",
       "      <td>0</td>\n",
       "      <td>0</td>\n",
       "    </tr>\n",
       "    <tr>\n",
       "      <th>(1101.0, 1317.5]</th>\n",
       "      <td>0</td>\n",
       "      <td>2</td>\n",
       "      <td>1</td>\n",
       "      <td>2</td>\n",
       "      <td>0</td>\n",
       "      <td>0</td>\n",
       "    </tr>\n",
       "    <tr>\n",
       "      <th>(1317.5, 1534.0]</th>\n",
       "      <td>1</td>\n",
       "      <td>1</td>\n",
       "      <td>3</td>\n",
       "      <td>0</td>\n",
       "      <td>0</td>\n",
       "      <td>0</td>\n",
       "    </tr>\n",
       "  </tbody>\n",
       "</table>\n",
       "</div>"
      ],
      "text/plain": [
       "cut_Y             (6.073, 7.232]  (7.232, 8.383]  (8.383, 9.535]  \\\n",
       "cut_X                                                              \n",
       "(233.701, 451.5]               0               0               1   \n",
       "(451.5, 668.0]                 0               0               0   \n",
       "(668.0, 884.5]                 0               0               4   \n",
       "(884.5, 1101.0]                0               1               3   \n",
       "(1101.0, 1317.5]               0               2               1   \n",
       "(1317.5, 1534.0]               1               1               3   \n",
       "\n",
       "cut_Y             (9.535, 10.687]  (10.687, 11.838]  (11.838, 12.99]  \n",
       "cut_X                                                                 \n",
       "(233.701, 451.5]                0                 2                1  \n",
       "(451.5, 668.0]                  1                 6                2  \n",
       "(668.0, 884.5]                  8                 0                0  \n",
       "(884.5, 1101.0]                 5                 0                0  \n",
       "(1101.0, 1317.5]                2                 0                0  \n",
       "(1317.5, 1534.0]                0                 0                0  "
      ]
     },
     "metadata": {},
     "output_type": "display_data"
    },
    {
     "name": "stdout",
     "output_type": "stream",
     "text": [
      "sum = 44\n"
     ]
    }
   ],
   "source": [
    "CorrTable_df = pd.crosstab(\n",
    "    index=matrix_XY_df['cut_X'],\n",
    "    columns=matrix_XY_df['cut_Y'],\n",
    "    rownames=['cut_X'],\n",
    "    colnames=['cut_Y'])\n",
    "\n",
    "display(CorrTable_df)\n",
    "\n",
    "# проверка правильности подсчета частот по интервалам\n",
    "print(f\"sum = {np.sum(np.array(CorrTable_df))}\")"
   ]
  },
  {
   "cell_type": "markdown",
   "metadata": {},
   "source": [
    "Функция **pandas.crosstab** также позволяет формировать более ровные и удобные для восприятия границы интервалов группировки путем задания их вручную. Для расчета **η** это принципиального значения не имеет, но в отдельных случаях может быть полезно.\n",
    "\n",
    "Например, зададим вручную границы интервалов группировки для **X** и **Y**:"
   ]
  },
  {
   "cell_type": "code",
   "execution_count": 63,
   "metadata": {},
   "outputs": [
    {
     "data": {
      "text/html": [
       "<div>\n",
       "<style scoped>\n",
       "    .dataframe tbody tr th:only-of-type {\n",
       "        vertical-align: middle;\n",
       "    }\n",
       "\n",
       "    .dataframe tbody tr th {\n",
       "        vertical-align: top;\n",
       "    }\n",
       "\n",
       "    .dataframe thead th {\n",
       "        text-align: right;\n",
       "    }\n",
       "</style>\n",
       "<table border=\"1\" class=\"dataframe\">\n",
       "  <thead>\n",
       "    <tr style=\"text-align: right;\">\n",
       "      <th>cut_Y</th>\n",
       "      <th>(6.0, 7.0]</th>\n",
       "      <th>(7.0, 8.0]</th>\n",
       "      <th>(8.0, 9.0]</th>\n",
       "      <th>(9.0, 10.0]</th>\n",
       "      <th>(10.0, 11.0]</th>\n",
       "      <th>(11.0, 12.0]</th>\n",
       "      <th>(12.0, 13.0]</th>\n",
       "    </tr>\n",
       "    <tr>\n",
       "      <th>cut_X</th>\n",
       "      <th></th>\n",
       "      <th></th>\n",
       "      <th></th>\n",
       "      <th></th>\n",
       "      <th></th>\n",
       "      <th></th>\n",
       "      <th></th>\n",
       "    </tr>\n",
       "  </thead>\n",
       "  <tbody>\n",
       "    <tr>\n",
       "      <th>(200, 400]</th>\n",
       "      <td>0</td>\n",
       "      <td>0</td>\n",
       "      <td>1</td>\n",
       "      <td>0</td>\n",
       "      <td>1</td>\n",
       "      <td>1</td>\n",
       "      <td>1</td>\n",
       "    </tr>\n",
       "    <tr>\n",
       "      <th>(400, 600]</th>\n",
       "      <td>0</td>\n",
       "      <td>0</td>\n",
       "      <td>0</td>\n",
       "      <td>0</td>\n",
       "      <td>1</td>\n",
       "      <td>3</td>\n",
       "      <td>1</td>\n",
       "    </tr>\n",
       "    <tr>\n",
       "      <th>(600, 800]</th>\n",
       "      <td>0</td>\n",
       "      <td>0</td>\n",
       "      <td>1</td>\n",
       "      <td>5</td>\n",
       "      <td>3</td>\n",
       "      <td>1</td>\n",
       "      <td>1</td>\n",
       "    </tr>\n",
       "    <tr>\n",
       "      <th>(800, 1000]</th>\n",
       "      <td>0</td>\n",
       "      <td>0</td>\n",
       "      <td>2</td>\n",
       "      <td>4</td>\n",
       "      <td>3</td>\n",
       "      <td>0</td>\n",
       "      <td>0</td>\n",
       "    </tr>\n",
       "    <tr>\n",
       "      <th>(1000, 1200]</th>\n",
       "      <td>0</td>\n",
       "      <td>1</td>\n",
       "      <td>2</td>\n",
       "      <td>3</td>\n",
       "      <td>1</td>\n",
       "      <td>0</td>\n",
       "      <td>0</td>\n",
       "    </tr>\n",
       "    <tr>\n",
       "      <th>(1200, 1400]</th>\n",
       "      <td>1</td>\n",
       "      <td>1</td>\n",
       "      <td>2</td>\n",
       "      <td>2</td>\n",
       "      <td>0</td>\n",
       "      <td>0</td>\n",
       "      <td>0</td>\n",
       "    </tr>\n",
       "    <tr>\n",
       "      <th>(1400, 1600]</th>\n",
       "      <td>0</td>\n",
       "      <td>1</td>\n",
       "      <td>1</td>\n",
       "      <td>0</td>\n",
       "      <td>0</td>\n",
       "      <td>0</td>\n",
       "      <td>0</td>\n",
       "    </tr>\n",
       "  </tbody>\n",
       "</table>\n",
       "</div>"
      ],
      "text/plain": [
       "cut_Y         (6.0, 7.0]  (7.0, 8.0]  (8.0, 9.0]  (9.0, 10.0]  (10.0, 11.0]  \\\n",
       "cut_X                                                                         \n",
       "(200, 400]             0           0           1            0             1   \n",
       "(400, 600]             0           0           0            0             1   \n",
       "(600, 800]             0           0           1            5             3   \n",
       "(800, 1000]            0           0           2            4             3   \n",
       "(1000, 1200]           0           1           2            3             1   \n",
       "(1200, 1400]           1           1           2            2             0   \n",
       "(1400, 1600]           0           1           1            0             0   \n",
       "\n",
       "cut_Y         (11.0, 12.0]  (12.0, 13.0]  \n",
       "cut_X                                     \n",
       "(200, 400]               1             1  \n",
       "(400, 600]               3             1  \n",
       "(600, 800]               1             1  \n",
       "(800, 1000]              0             0  \n",
       "(1000, 1200]             0             0  \n",
       "(1200, 1400]             0             0  \n",
       "(1400, 1600]             0             0  "
      ]
     },
     "metadata": {},
     "output_type": "display_data"
    },
    {
     "name": "stdout",
     "output_type": "stream",
     "text": [
      "sum = 44\n"
     ]
    }
   ],
   "source": [
    "bins_X = pd.IntervalIndex.from_tuples([(200, 400), (400, 600), (600, 800), (800, 1000), (1000, 1200), (1200, 1400), (1400, 1600)])\n",
    "cut_X = pd.cut(X, bins=bins_X)\n",
    "\n",
    "bins_Y = pd.IntervalIndex.from_tuples([(6.0, 7.0), (7.0, 8.0), (8.0, 9.0), (9.0, 10.0), (10.0, 11.0), (11.0, 12.0), (12.0, 13.0)])\n",
    "cut_Y = pd.cut(X, bins=bins_Y)\n",
    "\n",
    "CorrTable_df2 = pd.crosstab(\n",
    "    index=pd.cut(X, bins=bins_X),\n",
    "    columns=pd.cut(Y, bins=bins_Y),\n",
    "    rownames=['cut_X'],\n",
    "    colnames=['cut_Y'])\n",
    "display(CorrTable_df2)\n",
    "\n",
    "# проверка правильности подсчета частот по интервалам\n",
    "print(f\"sum = {np.sum(np.array(CorrTable_df2))}\")"
   ]
  },
  {
   "cell_type": "markdown",
   "metadata": {},
   "source": [
    "Есть и другой способ получения корреляционной таблицы - с помощью **pandas.pivot_table**:"
   ]
  },
  {
   "cell_type": "code",
   "execution_count": 64,
   "metadata": {},
   "outputs": [
    {
     "data": {
      "text/html": [
       "<div>\n",
       "<style scoped>\n",
       "    .dataframe tbody tr th:only-of-type {\n",
       "        vertical-align: middle;\n",
       "    }\n",
       "\n",
       "    .dataframe tbody tr th {\n",
       "        vertical-align: top;\n",
       "    }\n",
       "\n",
       "    .dataframe thead tr th {\n",
       "        text-align: left;\n",
       "    }\n",
       "\n",
       "    .dataframe thead tr:last-of-type th {\n",
       "        text-align: right;\n",
       "    }\n",
       "</style>\n",
       "<table border=\"1\" class=\"dataframe\">\n",
       "  <thead>\n",
       "    <tr>\n",
       "      <th></th>\n",
       "      <th colspan=\"6\" halign=\"left\">Y</th>\n",
       "    </tr>\n",
       "    <tr>\n",
       "      <th>cut_Y</th>\n",
       "      <th>(6.073, 7.232]</th>\n",
       "      <th>(7.232, 8.383]</th>\n",
       "      <th>(8.383, 9.535]</th>\n",
       "      <th>(9.535, 10.687]</th>\n",
       "      <th>(10.687, 11.838]</th>\n",
       "      <th>(11.838, 12.99]</th>\n",
       "    </tr>\n",
       "    <tr>\n",
       "      <th>cut_X</th>\n",
       "      <th></th>\n",
       "      <th></th>\n",
       "      <th></th>\n",
       "      <th></th>\n",
       "      <th></th>\n",
       "      <th></th>\n",
       "    </tr>\n",
       "  </thead>\n",
       "  <tbody>\n",
       "    <tr>\n",
       "      <th>(233.701, 451.5]</th>\n",
       "      <td>0</td>\n",
       "      <td>0</td>\n",
       "      <td>1</td>\n",
       "      <td>0</td>\n",
       "      <td>2</td>\n",
       "      <td>1</td>\n",
       "    </tr>\n",
       "    <tr>\n",
       "      <th>(451.5, 668.0]</th>\n",
       "      <td>0</td>\n",
       "      <td>0</td>\n",
       "      <td>0</td>\n",
       "      <td>1</td>\n",
       "      <td>6</td>\n",
       "      <td>2</td>\n",
       "    </tr>\n",
       "    <tr>\n",
       "      <th>(668.0, 884.5]</th>\n",
       "      <td>0</td>\n",
       "      <td>0</td>\n",
       "      <td>4</td>\n",
       "      <td>8</td>\n",
       "      <td>0</td>\n",
       "      <td>0</td>\n",
       "    </tr>\n",
       "    <tr>\n",
       "      <th>(884.5, 1101.0]</th>\n",
       "      <td>0</td>\n",
       "      <td>1</td>\n",
       "      <td>3</td>\n",
       "      <td>5</td>\n",
       "      <td>0</td>\n",
       "      <td>0</td>\n",
       "    </tr>\n",
       "    <tr>\n",
       "      <th>(1101.0, 1317.5]</th>\n",
       "      <td>0</td>\n",
       "      <td>2</td>\n",
       "      <td>1</td>\n",
       "      <td>2</td>\n",
       "      <td>0</td>\n",
       "      <td>0</td>\n",
       "    </tr>\n",
       "    <tr>\n",
       "      <th>(1317.5, 1534.0]</th>\n",
       "      <td>1</td>\n",
       "      <td>1</td>\n",
       "      <td>3</td>\n",
       "      <td>0</td>\n",
       "      <td>0</td>\n",
       "      <td>0</td>\n",
       "    </tr>\n",
       "  </tbody>\n",
       "</table>\n",
       "</div>"
      ],
      "text/plain": [
       "                              Y                                                \\\n",
       "cut_Y            (6.073, 7.232] (7.232, 8.383] (8.383, 9.535] (9.535, 10.687]   \n",
       "cut_X                                                                           \n",
       "(233.701, 451.5]              0              0              1               0   \n",
       "(451.5, 668.0]                0              0              0               1   \n",
       "(668.0, 884.5]                0              0              4               8   \n",
       "(884.5, 1101.0]               0              1              3               5   \n",
       "(1101.0, 1317.5]              0              2              1               2   \n",
       "(1317.5, 1534.0]              1              1              3               0   \n",
       "\n",
       "                                                   \n",
       "cut_Y            (10.687, 11.838] (11.838, 12.99]  \n",
       "cut_X                                              \n",
       "(233.701, 451.5]                2               1  \n",
       "(451.5, 668.0]                  6               2  \n",
       "(668.0, 884.5]                  0               0  \n",
       "(884.5, 1101.0]                 0               0  \n",
       "(1101.0, 1317.5]                0               0  \n",
       "(1317.5, 1534.0]                0               0  "
      ]
     },
     "execution_count": 64,
     "metadata": {},
     "output_type": "execute_result"
    }
   ],
   "source": [
    "matrix_XY_df.pivot_table(\n",
    "    values=['Y'],\n",
    "    index='cut_X',\n",
    "    columns='cut_Y',\n",
    "    aggfunc=len,\n",
    "    fill_value=0)"
   ]
  },
  {
   "cell_type": "markdown",
   "metadata": {},
   "source": [
    "<u>2. Выполним расчет корреляционного отношения:</u>"
   ]
  },
  {
   "cell_type": "markdown",
   "metadata": {},
   "source": [
    "Для дальнейших расчетов приведем корреляционную таблицу к типу **numpy.ndarray**:"
   ]
  },
  {
   "cell_type": "code",
   "execution_count": 65,
   "metadata": {},
   "outputs": [
    {
     "name": "stdout",
     "output_type": "stream",
     "text": [
      "[[0 0 1 0 2 1]\n",
      " [0 0 0 1 6 2]\n",
      " [0 0 4 8 0 0]\n",
      " [0 1 3 5 0 0]\n",
      " [0 2 1 2 0 0]\n",
      " [1 1 3 0 0 0]] <class 'numpy.ndarray'>\n"
     ]
    }
   ],
   "source": [
    "CorrTable_np = np.array(CorrTable_df)\n",
    "print(CorrTable_np, type(CorrTable_np))"
   ]
  },
  {
   "cell_type": "markdown",
   "metadata": {},
   "source": [
    "Итоги корреляционной таблицы по строкам и столбцам:"
   ]
  },
  {
   "cell_type": "code",
   "execution_count": 66,
   "metadata": {},
   "outputs": [
    {
     "name": "stdout",
     "output_type": "stream",
     "text": [
      "n_group_X = [4, 9, 12, 9, 5, 5]\n",
      "n_group_Y = [1, 4, 12, 16, 8, 3]\n"
     ]
    }
   ],
   "source": [
    "# итоги по строкам\n",
    "n_group_X = [np.sum(CorrTable_np[i]) for i in range(K_X)]\n",
    "print(f\"n_group_X = {n_group_X}\")\n",
    "\n",
    "# итоги по столбцам\n",
    "n_group_Y = [np.sum(CorrTable_np[:,j]) for j in range(K_Y)]\n",
    "print(f\"n_group_Y = {n_group_Y}\")"
   ]
  },
  {
   "cell_type": "markdown",
   "metadata": {},
   "source": [
    "Также нам необходимо получить среднегрупповые значения **X** и **Y** для каждой группы (интервала). При этом нужно помнить, что функция **pandas.crosstab** при группировании расширяет крайние диапазоны на 0.1% с каждой стороны, чтобы включить минимальное и максимальное значения.\n",
    "\n",
    "Для доступа к данным - границам интервалов, полученным с помощью **pandas.cut** - существуют методы **right** и **left**:"
   ]
  },
  {
   "cell_type": "code",
   "execution_count": 67,
   "metadata": {},
   "outputs": [
    {
     "name": "stdout",
     "output_type": "stream",
     "text": [
      "Xboun_mean = [343.25, 559.75, 776.25, 992.75, 1209.25, 1425.75]\n",
      "Yboun_mean = [6.656000000000001, 7.807499999999999, 8.959, 10.111, 11.2625, 12.414] \n",
      "\n"
     ]
    }
   ],
   "source": [
    "# Среднегрупповые значения переменной X\n",
    "Xboun_mean = [(CorrTable_df.index[i].left + CorrTable_df.index[i].right)/2 for i in range(K_X)]\n",
    "Xboun_mean[0] = (np.min(X) + CorrTable_df.index[0].right)/2    # исправляем значения в крайних интервалах\n",
    "Xboun_mean[K_X-1] = (CorrTable_df.index[K_X-1].left + np.max(X))/2\n",
    "print(f\"Xboun_mean = {Xboun_mean}\")\n",
    "\n",
    "# Среднегрупповые значения переменной Y\n",
    "Yboun_mean = [(CorrTable_df.columns[j].left + CorrTable_df.columns[j].right)/2 for j in range(K_Y)]\n",
    "Yboun_mean[0] = (np.min(Y) + CorrTable_df.columns[0].right)/2    # исправляем значения в крайних интервалах\n",
    "Yboun_mean[K_Y-1] = (CorrTable_df.columns[K_Y-1].left + np.max(Y))/2\n",
    "print(f\"Yboun_mean = {Yboun_mean}\", '\\n')"
   ]
  },
  {
   "cell_type": "markdown",
   "metadata": {},
   "source": [
    "Находим средневзевешенные значения **X** и **Y** для каждой группы:"
   ]
  },
  {
   "cell_type": "code",
   "execution_count": 68,
   "metadata": {},
   "outputs": [
    {
     "name": "stdout",
     "output_type": "stream",
     "text": [
      "Xmean_group = [1425.75, 1209.25, 992.75, 884.5, 505.625, 487.5833333333333]\n",
      "Ymean_group = [10.974499999999999, 11.390444444444444, 9.727, 9.471055555555557, 8.9592, 8.2681]\n"
     ]
    }
   ],
   "source": [
    "Xmean_group = [np.sum(CorrTable_np[:,j] * Xboun_mean) / n_group_Y[j] for j in range(K_Y)]\n",
    "print(f\"Xmean_group = {Xmean_group}\")\n",
    "\n",
    "Ymean_group = [np.sum(CorrTable_np[i] * Yboun_mean) / n_group_X[i] for i in range(K_X)]\n",
    "print(f\"Ymean_group = {Ymean_group}\")"
   ]
  },
  {
   "cell_type": "markdown",
   "metadata": {},
   "source": [
    "Общая дисперсия **X** и **Y**:"
   ]
  },
  {
   "cell_type": "code",
   "execution_count": 69,
   "metadata": {},
   "outputs": [
    {
     "name": "stdout",
     "output_type": "stream",
     "text": [
      "Sum2_total_X = 4335010.5225\n",
      "Sum2_total_Y = 73.51576518181821\n"
     ]
    }
   ],
   "source": [
    "Sum2_total_X = np.sum(n_group_X * (Xboun_mean - np.mean(X))**2)\n",
    "print(f\"Sum2_total_X = {Sum2_total_X}\")\n",
    "\n",
    "Sum2_total_Y = np.sum(n_group_Y * (Yboun_mean - np.mean(Y))**2)\n",
    "print(f\"Sum2_total_Y = {Sum2_total_Y}\")"
   ]
  },
  {
   "cell_type": "markdown",
   "metadata": {},
   "source": [
    "Межгрупповая дисперсия **X** и **Y** (дисперсия групповых средних):"
   ]
  },
  {
   "cell_type": "code",
   "execution_count": 70,
   "metadata": {},
   "outputs": [
    {
     "name": "stdout",
     "output_type": "stream",
     "text": [
      "Sum2_between_group_X = 2452308.480833333\n",
      "Sum2_between_group_Y = 44.695180237373734\n"
     ]
    }
   ],
   "source": [
    "Sum2_between_group_X = np.sum(n_group_Y * (Xmean_group - np.mean(X))**2)\n",
    "print(f\"Sum2_between_group_X = {Sum2_between_group_X}\")\n",
    "\n",
    "Sum2_between_group_Y = np.sum(n_group_X * (Ymean_group - np.mean(Y))**2)\n",
    "print(f\"Sum2_between_group_Y = {Sum2_between_group_Y}\")"
   ]
  },
  {
   "cell_type": "markdown",
   "metadata": {},
   "source": [
    "Внутригрупповая дисперсия **X** и **Y** (возникает за счет других факторов - не связанных с другой переменной):"
   ]
  },
  {
   "cell_type": "code",
   "execution_count": 71,
   "metadata": {},
   "outputs": [
    {
     "name": "stdout",
     "output_type": "stream",
     "text": [
      "Sum2_within_group_X = 1882702.041666667\n",
      "Sum2_within_group_Y = 28.820584944444477\n"
     ]
    }
   ],
   "source": [
    "print(f\"Sum2_within_group_X = {Sum2_total_X - Sum2_between_group_X}\")\n",
    "print(f\"Sum2_within_group_Y = {Sum2_total_Y - Sum2_between_group_Y}\")"
   ]
  },
  {
   "cell_type": "markdown",
   "metadata": {},
   "source": [
    "Эмпирическое корреляционное отношение:"
   ]
  },
  {
   "cell_type": "code",
   "execution_count": 72,
   "metadata": {},
   "outputs": [
    {
     "name": "stdout",
     "output_type": "stream",
     "text": [
      "corr_ratio_XY = 0.7797225699063492\n",
      "corr_ratio_YX = 0.7521292387337751\n"
     ]
    }
   ],
   "source": [
    "corr_ratio_XY = sqrt(Sum2_between_group_Y / Sum2_total_Y)\n",
    "print(f\"corr_ratio_XY = {corr_ratio_XY}\")\n",
    "\n",
    "corr_ratio_YX = sqrt(Sum2_between_group_X / Sum2_total_X)\n",
    "print(f\"corr_ratio_YX = {corr_ratio_YX}\")"
   ]
  },
  {
   "cell_type": "markdown",
   "metadata": {},
   "source": [
    "Итак, мы получили результат - значение корреляционного отношения.\n",
    "\n",
    "Оценим тесноту корреляционной связи по **шкале Чеддока**, для удобства создадим пользовательскую функцию:"
   ]
  },
  {
   "cell_type": "code",
   "execution_count": 73,
   "metadata": {},
   "outputs": [
    {
     "name": "stdout",
     "output_type": "stream",
     "text": [
      "Оценка тесноты корреляции по шкале Чеддока: high (0.7 < |η| <= 0.9)\n"
     ]
    }
   ],
   "source": [
    "def Cheddock_scale_check(r, name='r'):\n",
    "    # задаем шкалу Чеддока\n",
    "    Cheddock_scale = {\n",
    "        f'no correlation (|{name}| <= 0.1)':    0.1,\n",
    "        f'very weak (0.1 < |{name}| <= 0.2)':   0.2,\n",
    "        f'weak (0.2 < |{name}| <= 0.3)':        0.3,\n",
    "        f'moderate (0.3 < |{name}| <= 0.5)':    0.5,\n",
    "        f'perceptible (0.5 < |{name}| <= 0.7)': 0.7,\n",
    "        f'high (0.7 < |{name}| <= 0.9)':        0.9,\n",
    "        f'very high (0.9 < |{name}| <= 0.99)':  0.99,\n",
    "        f'functional (|{name}| > 0.99)':        1.0}\n",
    "    \n",
    "    r_scale = list(Cheddock_scale.values())\n",
    "    for i, elem in enumerate(r_scale):\n",
    "        if abs(r) <= elem:\n",
    "            conclusion_Cheddock_scale = list(Cheddock_scale.keys())[i]\n",
    "            break\n",
    "    return conclusion_Cheddock_scale    \n",
    "\n",
    "print(f\"Оценка тесноты корреляции по шкале Чеддока: {Cheddock_scale_check(corr_ratio_XY, name=chr(951))}\")"
   ]
  },
  {
   "cell_type": "markdown",
   "metadata": {},
   "source": [
    "Шкала Чеддока изначально предназначалась для оценки тесноты линейно корреляционной связи (на основе коэффициента корреляции Пирсона **r**), но мы ее применим и для корреляционного отношения **η** (не забывая про свойство **η ≥ r**!). В выводе функции **Cheddock_scale_check** можно указать символ, обозначающий величину - аргумент **name=chr(951)** выводит **η** вместо **r**."
   ]
  },
  {
   "cell_type": "markdown",
   "metadata": {},
   "source": [
    "В современных исследованиях **шкала Чеддока** теряет популярность, в последние годы все чаще применяется **шкала Эванса** (в психосоциальных, медико-биологических и др.исследованиях) ( более подробно про шкалы Чеддока, Эванса и др. - см.[4]). Оценим тесноту корреляционной связи по **шкале Эванса**, для удобства также создадим пользовательскую функцию:"
   ]
  },
  {
   "cell_type": "code",
   "execution_count": 74,
   "metadata": {},
   "outputs": [
    {
     "name": "stdout",
     "output_type": "stream",
     "text": [
      "Оценка тесноты корреляции по шкале Эванса: strong (0.6 < |η| <= 0.79)\n"
     ]
    }
   ],
   "source": [
    "def Evans_scale_check(r, name='r'):\n",
    "    # задаем шкалу Эванса\n",
    "    Evans_scale = {\n",
    "        f'very weak (|{name}| < 0.19)':         0.2,\n",
    "        f'weak (0.2 < |{name}| <= 0.39)':       0.4,  \n",
    "        f'moderate (0.4 < |{name}| <= 0.59)':   0.6,\n",
    "        f'strong (0.6 < |{name}| <= 0.79)':     0.8,\n",
    "        f'very strong (0.8 < |{name}| <= 1.0)': 1.0}\n",
    "    \n",
    "    r_scale = list(Evans_scale.values())\n",
    "    for i, elem in enumerate(r_scale):\n",
    "        if abs(r) <= elem:\n",
    "            conclusion_Evans_scale = list(Evans_scale.keys())[i]\n",
    "            break\n",
    "    return conclusion_Evans_scale    \n",
    "\n",
    "print(f\"Оценка тесноты корреляции по шкале Эванса: {Evans_scale_check(corr_ratio_XY, name=chr(951))}\")"
   ]
  },
  {
   "cell_type": "markdown",
   "metadata": {},
   "source": [
    "Итак, степень тесноты корреляционной связи может быть оценена как **высокая** (по шкале Чеддока), **сильная** (по шкале Эванса)."
   ]
  },
  {
   "cell_type": "markdown",
   "metadata": {},
   "source": [
    "<u>3. Проверка значимости корреляционного отношения:</u>"
   ]
  },
  {
   "cell_type": "markdown",
   "metadata": {},
   "source": [
    "Рассмотрим нулевую гипотезу:\n",
    "\n",
    "    H0: ηXY = 0\n",
    "    H1: ηXY ≠ 0\n",
    "\n",
    "Для проверки нулевой гипотезы воспользуемся критерием Фишера:"
   ]
  },
  {
   "cell_type": "code",
   "execution_count": 75,
   "metadata": {},
   "outputs": [
    {
     "name": "stdout",
     "output_type": "stream",
     "text": [
      "Расчетное значение статистики критерия Фишера: F_calc = 11.78614\n",
      "Табличное значение статистики критерия Фишера: F_table = 2.46255\n",
      "Расчетный уровень значимости: a_calc = 0.0\n",
      "Заданный уровень значимости: a_level = 0.05\n",
      "Так как F_calc = 11.78614 >= F_table = 2.46255, то гипотеза о равенстве нулю корреляционного отношения ОТВЕРГАЕТСЯ, т.е. корреляционная связь ЗНАЧИМА\n"
     ]
    }
   ],
   "source": [
    "# расчетное значение статистики критерия Фишера\n",
    "F_corr_ratio_calc = (n_X - K_X)/(K_X - 1) * corr_ratio_XY**2 / (1 - corr_ratio_XY**2)\n",
    "print(f\"Расчетное значение статистики критерия Фишера: F_calc = {round(F_corr_ratio_calc, DecPlace)}\")\n",
    "# табличное значение статистики критерия Фишера\n",
    "dfn = K_X - 1\n",
    "dfd = n_X - K_X\n",
    "F_corr_ratio_table = sci.stats.f.ppf(p_level, dfn, dfd, loc=0, scale=1)\n",
    "print(f\"Табличное значение статистики критерия Фишера: F_table = {round(F_corr_ratio_table, DecPlace)}\")\n",
    "# расчетный уровень значимости\n",
    "a_corr_ratio_calc = 1 - sci.stats.f.cdf(F_corr_ratio_calc, dfn, dfd, loc=0, scale=1)\n",
    "print(f\"Расчетный уровень значимости: a_calc = {round(a_corr_ratio_calc, DecPlace)}\")\n",
    "print(f\"Заданный уровень значимости: a_level = {round(a_level, DecPlace)}\")\n",
    "# вывод\n",
    "if F_corr_ratio_calc < F_corr_ratio_table:\n",
    "    conclusion_corr_ratio_sign = f\"Так как F_calc = {round(F_corr_ratio_calc, DecPlace)} < F_table = {round(F_corr_ratio_table, DecPlace)}\" + \\\n",
    "        \", то гипотеза о равенстве нулю корреляционного отношения ПРИНИМАЕТСЯ, т.е. корреляционная связь НЕЗНАЧИМА\"\n",
    "else:\n",
    "    conclusion_corr_ratio_sign = f\"Так как F_calc = {round(F_corr_ratio_calc, DecPlace)} >= F_table = {round(F_corr_ratio_table, DecPlace)}\" + \\\n",
    "        \", то гипотеза о равенстве нулю корреляционного отношения ОТВЕРГАЕТСЯ, т.е. корреляционная связь ЗНАЧИМА\"\n",
    "print(conclusion_corr_ratio_sign)"
   ]
  },
  {
   "cell_type": "markdown",
   "metadata": {},
   "source": [
    "<u>4. Доверительный интервал для корреляционного отношения:</u>"
   ]
  },
  {
   "cell_type": "code",
   "execution_count": 76,
   "metadata": {},
   "outputs": [
    {
     "name": "stdout",
     "output_type": "stream",
     "text": [
      "95.0%-ный доверительный интервал для корреляционного отношения: [0.76909, 1]\n"
     ]
    }
   ],
   "source": [
    "# число степеней свободы\n",
    "f1 = round ((K_X - 1 + n_X * corr_ratio_XY**2)**2 / (K_X - 1 + 2 * n_X * corr_ratio_XY**2))\n",
    "f2 = n_X - K_X\n",
    "# вспомогательные величины\n",
    "z1 = (n_X - K_X) / n_X * corr_ratio_XY**2 / (1 - corr_ratio_XY**2) * 1/sci.stats.f.ppf(p_level, f1, f2, loc=0, scale=1) - (K_X - 1)/n_X\n",
    "z2 = (n_X - K_X) / n_X * corr_ratio_XY**2 / (1 - corr_ratio_XY**2) * 1/sci.stats.f.ppf(1 - p_level, f1, f2, loc=0, scale=1) - (K_X - 1)/n_X\n",
    "# доверительный интервал\n",
    "corr_ratio_XY_low = sqrt(z1) if sqrt(z1) >= 0 else 0\n",
    "corr_ratio_XY_high = sqrt(z2) if sqrt(z2) <= 1 else 1\n",
    "print(f\"{p_level*100}%-ный доверительный интервал для корреляционного отношения: {[round(corr_ratio_XY_low, DecPlace), round(corr_ratio_XY_high, DecPlace)]}\")"
   ]
  },
  {
   "cell_type": "markdown",
   "metadata": {},
   "source": [
    "<u>5. Проверка значимости отличия линейной корреляционной связи от нелинейной:</u>"
   ]
  },
  {
   "cell_type": "markdown",
   "metadata": {},
   "source": [
    "Оценим величину коэффициента линейной корреляции:"
   ]
  },
  {
   "cell_type": "code",
   "execution_count": 77,
   "metadata": {},
   "outputs": [
    {
     "name": "stdout",
     "output_type": "stream",
     "text": [
      "Коэффициент линейной корреляции: r = -0.71548\n",
      "Оценка тесноты линейной корреляции по шкале Чеддока: high (0.7 < |r| <= 0.9)\n",
      "Оценка тесноты линейной корреляции по шкале Эванса: strong (0.6 < |r| <= 0.79)\n"
     ]
    }
   ],
   "source": [
    "corr_coef = sci.stats.pearsonr(X, Y)[0]\n",
    "print(f\"Коэффициент линейной корреляции: r = {round(corr_coef, DecPlace)}\")\n",
    "\n",
    "print(f\"Оценка тесноты линейной корреляции по шкале Чеддока: {Cheddock_scale_check(corr_coef)}\")\n",
    "print(f\"Оценка тесноты линейной корреляции по шкале Эванса: {Evans_scale_check(corr_coef)}\")"
   ]
  },
  {
   "cell_type": "markdown",
   "metadata": {},
   "source": [
    "Проверим значимость коэффициента линейной корреляции:"
   ]
  },
  {
   "cell_type": "code",
   "execution_count": 78,
   "metadata": {},
   "outputs": [
    {
     "name": "stdout",
     "output_type": "stream",
     "text": [
      "Расчетный уровень значимости коэффициента линейной корреляции: a_calc = 4.815795055340012e-08\n",
      "Заданный уровень значимости: a_level = 0.05\n",
      "Так как a_calc = 4.815795055340012e-08 < a_level = 0.05, то гипотеза о равенстве нулю коэффициента линейной корреляции ОТВЕРГАЕТСЯ, т.е. линейная корреляционная связь ЗНАЧИМА\n"
     ]
    }
   ],
   "source": [
    "# расчетный уровень значимости\n",
    "a_corr_coef_calc = sci.stats.pearsonr(X, Y)[1]\n",
    "print(f\"Расчетный уровень значимости коэффициента линейной корреляции: a_calc = {a_corr_coef_calc}\")\n",
    "print(f\"Заданный уровень значимости: a_level = {round(a_level, DecPlace)}\")\n",
    "# вывод\n",
    "if a_corr_coef_calc >= a_level:\n",
    "    conclusion_corr_coef_sign = f\"Так как a_calc = {a_corr_coef_calc} >= a_level = {round(a_level, DecPlace)}\" + \\\n",
    "        \", то гипотеза о равенстве нулю коэффициента линейной корреляции ПРИНИМАЕТСЯ, т.е. линейная корреляционная связь НЕЗНАЧИМА\"\n",
    "else:\n",
    "    conclusion_corr_coef_sign = f\"Так как a_calc = {a_corr_coef_calc} < a_level = {round(a_level, DecPlace)}\" + \\\n",
    "        \", то гипотеза о равенстве нулю коэффициента линейной корреляции ОТВЕРГАЕТСЯ, т.е. линейная корреляционная связь ЗНАЧИМА\"\n",
    "print(conclusion_corr_coef_sign)"
   ]
  },
  {
   "cell_type": "markdown",
   "metadata": {},
   "source": [
    "Теперь проверим значимость отличия линейной корреляционной связи от нелинейной. Для этого рассмотрим нулевую гипотезу:\n",
    "\n",
    "    H0: η² - r² = 0\n",
    "    H1: η² - r² ≠ 0\n",
    "\n",
    "Для проверки нулевой гипотезы воспользуемся критерием Фишера:"
   ]
  },
  {
   "cell_type": "code",
   "execution_count": 79,
   "metadata": {},
   "outputs": [
    {
     "name": "stdout",
     "output_type": "stream",
     "text": [
      "Корреляционное отношение: η = 0.77972\n",
      "Коэффициент линейной корреляции: r = -0.71548\n",
      "Расчетное значение статистики критерия Фишера: F_calc = 2.32773\n",
      "Табличное значение статистики критерия Фишера: F_table = 2.61899\n",
      "Расчетный уровень значимости: a_calc = 0.07368\n",
      "Заданный уровень значимости: a_level = 0.05\n",
      "Так как F_calc = 2.32773 < F_table = 2.61899, то гипотеза о равенстве η и r ПРИНИМАЕТСЯ, т.е. корреляционная связь ЛИНЕЙНАЯ\n"
     ]
    }
   ],
   "source": [
    "print(f\"Корреляционное отношение: {chr(951)} = {round(corr_ratio_XY, DecPlace)}\")\n",
    "print(f\"Коэффициент линейной корреляции: r = {round(corr_coef, DecPlace)}\")\n",
    "# расчетное значение статистики критерия Фишера\n",
    "F_line_corr_sign_calc = (n_X - K_X)/(K_X - 2) * (corr_ratio_XY**2 - corr_coef**2) / (1 - corr_ratio_XY**2)\n",
    "print(f\"Расчетное значение статистики критерия Фишера: F_calc = {round(F_line_corr_sign_calc, DecPlace)}\")\n",
    "# табличное значение статистики критерия Фишера\n",
    "dfn = K_X - 2\n",
    "dfd = n_X - K_X\n",
    "F_line_corr_sign_table = sci.stats.f.ppf(p_level, dfn, dfd, loc=0, scale=1)\n",
    "print(f\"Табличное значение статистики критерия Фишера: F_table = {round(F_line_corr_sign_table, DecPlace)}\")\n",
    "# расчетный уровень значимости\n",
    "a_line_corr_sign_calc = 1 - sci.stats.f.cdf(F_line_corr_sign_calc, dfn, dfd, loc=0, scale=1)\n",
    "print(f\"Расчетный уровень значимости: a_calc = {round(a_line_corr_sign_calc, DecPlace)}\")\n",
    "print(f\"Заданный уровень значимости: a_level = {round(a_level, DecPlace)}\")\n",
    "# вывод\n",
    "if F_line_corr_sign_calc < F_line_corr_sign_table:\n",
    "    conclusion_line_corr_sign = f\"Так как F_calc = {round(F_line_corr_sign_calc, DecPlace)} < F_table = {round(F_line_corr_sign_table, DecPlace)}\" + \\\n",
    "        f\", то гипотеза о равенстве {chr(951)} и r ПРИНИМАЕТСЯ, т.е. корреляционная связь ЛИНЕЙНАЯ\"\n",
    "else:\n",
    "    conclusion_line_corr_sign = f\"Так как F_calc = {round(F_line_corr_sign_calc, DecPlace)} >= F_table = {round(F_line_corr_sign_table, DecPlace)}\" + \\\n",
    "        f\", то гипотеза о равенстве {chr(951)} и r ОТВЕРГАЕТСЯ, т.е. корреляционная связь НЕЛИНЕЙНАЯ\"\n",
    "print(conclusion_line_corr_sign)"
   ]
  },
  {
   "cell_type": "markdown",
   "metadata": {},
   "source": [
    "### <center> <u> <font size=\"5\"> ***СОЗДАНИЕ ПОЛЬЗОВАТЕЛЬСКОЙ ФУНКЦИИ ДЛЯ КОРРЕЛЯЦИОННОГО АНАЛИЗА***"
   ]
  },
  {
   "cell_type": "markdown",
   "metadata": {},
   "source": [
    "Для практической работы целесообразно все вышеприведенные расчеты реализовать в виде пользовательских функций:\n",
    "* функция **corr_coef_check** - для расчета и анализа коэффициента линейной корреляции Пирсона\n",
    "* функция **corr_ratio_check** - для расчета и анализа корреляционного отношения\n",
    "* функция **line_corr_sign_check** - для проверка значимости линейной корреляционной связи\n",
    "\n",
    "Данные функции выводят результаты анализа в виде DataFrame, что удобно для визуального восприятия и дальнейшего использования результатов анализа (впрочем, способ вывода - на усмотрение каждого исследователя)."
   ]
  },
  {
   "cell_type": "code",
   "execution_count": 80,
   "metadata": {},
   "outputs": [],
   "source": [
    "# Функция для расчета и анализа коэффициента линейной корреляции Пирсона\n",
    "def corr_coef_check(X, Y, p_level=0.95, scale='Cheddok'):\n",
    "    a_level = 1 - p_level\n",
    "    X = np.array(X)\n",
    "    Y = np.array(Y)\n",
    "    n_X = len(X)\n",
    "    n_Y = len(Y)\n",
    "    # оценка коэффициента линейной корреляции средствами scipy\n",
    "    corr_coef, a_corr_coef_calc = sci.stats.pearsonr(X, Y)\n",
    "    # несмещенная оценка коэффициента линейной корреляции (при n < 15) (см.Кобзарь, с.607)\n",
    "    if n_X < 15:\n",
    "        corr_coef = corr_coef * (1 + (1 - corr_coef**2) / (2*(n_X-3)))\n",
    "    # проверка гипотезы о значимости коэффициента корреляции\n",
    "    t_corr_coef_calc = abs(corr_coef) * sqrt(n_X-2) / sqrt(1 - corr_coef**2)\n",
    "    t_corr_coef_table = sci.stats.t.ppf((1 + p_level)/2 , n_X - 2)\n",
    "    conclusion_corr_coef_sign = 'significance' if t_corr_coef_calc >= t_corr_coef_table else 'not significance'\n",
    "    # доверительный интервал коэффициента корреляции\n",
    "    if t_corr_coef_calc >= t_corr_coef_table:\n",
    "        z1 = np.arctanh(corr_coef) - sci.stats.norm.ppf((1 + p_level)/2, 0, 1) / sqrt(n_X-3) - corr_coef / (2*(n_X-1))\n",
    "        z2 = np.arctanh(corr_coef) + sci.stats.norm.ppf((1 + p_level)/2, 0, 1) / sqrt(n_X-3) - corr_coef / (2*(n_X-1))\n",
    "        corr_coef_conf_int_low = tanh(z1)\n",
    "        corr_coef_conf_int_high = tanh(z2)\n",
    "    else:\n",
    "        corr_coef_conf_int_low = corr_coef_conf_int_high = '-'    \n",
    "    # оценка тесноты связи\n",
    "    if scale=='Cheddok':\n",
    "        conclusion_corr_coef_scale = scale + ': ' + Cheddock_scale_check(corr_coef)\n",
    "    elif scale=='Evans':\n",
    "        conclusion_corr_coef_scale = scale + ': ' + Evans_scale_check(corr_coef)\n",
    "    # формируем результат            \n",
    "    result = pd.DataFrame({\n",
    "        'notation': ('r'),\n",
    "        'coef_value': (corr_coef),\n",
    "        'p_level': (p_level),\n",
    "        'a_level': (a_level),\n",
    "        't_calc': (t_corr_coef_calc),\n",
    "        't_table': (t_corr_coef_table),\n",
    "        't_calc >= t_table': (t_corr_coef_calc >= t_corr_coef_table),\n",
    "        'a_calc': (a_corr_coef_calc),\n",
    "        'a_calc <= a_level': (a_corr_coef_calc <= a_level),\n",
    "        'significance_check': (conclusion_corr_coef_sign),\n",
    "        'conf_int_low': (corr_coef_conf_int_low),\n",
    "        'conf_int_high': (corr_coef_conf_int_high),\n",
    "        'scale': (conclusion_corr_coef_scale)\n",
    "        },\n",
    "        index=['Correlation coef.'])\n",
    "        \n",
    "    return result        "
   ]
  },
  {
   "cell_type": "code",
   "execution_count": 81,
   "metadata": {},
   "outputs": [],
   "source": [
    "# Функция для расчета и анализа корреляционного отношения\n",
    "def corr_ratio_check(X, Y, p_level=0.95, orientation='XY', scale='Cheddok'):\n",
    "    a_level = 1 - p_level\n",
    "    X = np.array(X)\n",
    "    Y = np.array(Y)\n",
    "    n_X = len(X)\n",
    "    n_Y = len(Y)    \n",
    "    # запишем данные в DataFrame\n",
    "    matrix_XY_df = pd.DataFrame({\n",
    "        'X': X,\n",
    "        'Y': Y})\n",
    "    # число интервалов группировки\n",
    "    group_int_number = lambda n: round (3.31*log(n_X, 10)+1) if round (3.31*log(n_X, 10)+1) >=2 else 2\n",
    "    K_X = group_int_number(n_X)\n",
    "    K_Y = group_int_number(n_Y)\n",
    "    # группировка данных и формирование корреляционной таблицы\n",
    "    cut_X = pd.cut(X, bins=K_X)\n",
    "    cut_Y = pd.cut(Y, bins=K_Y)\n",
    "    matrix_XY_df['cut_X'] = cut_X\n",
    "    matrix_XY_df['cut_Y'] = cut_Y\n",
    "    CorrTable_df = pd.crosstab(\n",
    "        index=matrix_XY_df['cut_X'],\n",
    "        columns=matrix_XY_df['cut_Y'],\n",
    "        rownames=['cut_X'],\n",
    "        colnames=['cut_Y'])\n",
    "    CorrTable_np = np.array(CorrTable_df)\n",
    "    # итоги корреляционной таблицы по строкам и столбцам\n",
    "    n_group_X = [np.sum(CorrTable_np[i]) for i in range(K_X)]\n",
    "    n_group_Y = [np.sum(CorrTable_np[:,j]) for j in range(K_Y)]\n",
    "    # среднегрупповые значения переменной X\n",
    "    Xboun_mean = [(CorrTable_df.index[i].left + CorrTable_df.index[i].right)/2 for i in range(K_X)]\n",
    "    Xboun_mean[0] = (np.min(X) + CorrTable_df.index[0].right)/2    # исправляем значения в крайних интервалах\n",
    "    Xboun_mean[K_X-1] = (CorrTable_df.index[K_X-1].left + np.max(X))/2\n",
    "    # среднегрупповые значения переменной Y\n",
    "    Yboun_mean = [(CorrTable_df.columns[j].left + CorrTable_df.columns[j].right)/2 for j in range(K_Y)]\n",
    "    Yboun_mean[0] = (np.min(Y) + CorrTable_df.columns[0].right)/2    # исправляем значения в крайних интервалах\n",
    "    Yboun_mean[K_Y-1] = (CorrTable_df.columns[K_Y-1].left + np.max(Y))/2\n",
    "    # средневзевешенные значения X и Y для каждой группы\n",
    "    Xmean_group = [np.sum(CorrTable_np[:,j] * Xboun_mean) / n_group_Y[j] for j in range(K_Y)]\n",
    "    Ymean_group = [np.sum(CorrTable_np[i] * Yboun_mean) / n_group_X[i] for i in range(K_X)]\n",
    "    # общая дисперсия X и Y\n",
    "    Sum2_total_X = np.sum(n_group_X * (Xboun_mean - np.mean(X))**2)\n",
    "    Sum2_total_Y = np.sum(n_group_Y * (Yboun_mean - np.mean(Y))**2)\n",
    "    # межгрупповая дисперсия X и Y (дисперсия групповых средних)\n",
    "    Sum2_between_group_X = np.sum(n_group_Y * (Xmean_group - np.mean(X))**2)\n",
    "    Sum2_between_group_Y = np.sum(n_group_X * (Ymean_group - np.mean(Y))**2)\n",
    "    # эмпирическое корреляционное отношение\n",
    "    corr_ratio_XY = sqrt(Sum2_between_group_Y / Sum2_total_Y)\n",
    "    corr_ratio_YX = sqrt(Sum2_between_group_X / Sum2_total_X)\n",
    "    try:\n",
    "        if orientation!='XY' and orientation!='YX':\n",
    "            raise ValueError(\"Error! Incorrect orientation!\")\n",
    "        if orientation=='XY':\n",
    "            corr_ratio = corr_ratio_XY\n",
    "        elif orientation=='YX':\n",
    "            corr_ratio = corr_ratio_YX\n",
    "    except ValueError as err:\n",
    "        print(err)\n",
    "    # проверка гипотезы о значимости корреляционного отношения\n",
    "    F_corr_ratio_calc = (n_X - K_X)/(K_X - 1) * corr_ratio**2 / (1 - corr_ratio**2)\n",
    "    dfn = K_X - 1\n",
    "    dfd = n_X - K_X\n",
    "    F_corr_ratio_table = sci.stats.f.ppf(p_level, dfn, dfd, loc=0, scale=1)\n",
    "    a_corr_ratio_calc = 1 - sci.stats.f.cdf(F_corr_ratio_calc, dfn, dfd, loc=0, scale=1)\n",
    "    conclusion_corr_ratio_sign = 'significance' if F_corr_ratio_calc >= F_corr_ratio_table else 'not significance'\n",
    "    # доверительный интервал корреляционного отношения\n",
    "    if F_corr_ratio_calc >= F_corr_ratio_table:\n",
    "        f1 = round ((K_X - 1 + n_X * corr_ratio**2)**2 / (K_X - 1 + 2 * n_X * corr_ratio**2))\n",
    "        f2 = n_X - K_X\n",
    "        z1 = (n_X - K_X) / n_X * corr_ratio**2 / (1 - corr_ratio**2) * 1/sci.stats.f.ppf(p_level, f1, f2, loc=0, scale=1) - (K_X - 1)/n_X\n",
    "        z2 = (n_X - K_X) / n_X * corr_ratio**2 / (1 - corr_ratio**2) * 1/sci.stats.f.ppf(1 - p_level, f1, f2, loc=0, scale=1) - (K_X - 1)/n_X\n",
    "        corr_ratio_conf_int_low = sqrt(z1) if sqrt(z1) >= 0 else 0\n",
    "        corr_ratio_conf_int_high = sqrt(z2) if sqrt(z2) <= 1 else 1\n",
    "    else:\n",
    "        corr_ratio_conf_int_low = corr_ratio_conf_int_high = '-'    \n",
    "    # оценка тесноты связи\n",
    "    if scale=='Cheddok':\n",
    "        conclusion_corr_ratio_scale = scale + ': ' + Cheddock_scale_check(corr_ratio, name=chr(951))\n",
    "    elif scale=='Evans':\n",
    "        conclusion_corr_ratio_scale = scale + ': ' + Evans_scale_check(corr_ratio, name=chr(951))\n",
    "    # формируем результат            \n",
    "    result = pd.DataFrame({\n",
    "        'notation': (chr(951)),\n",
    "        'coef_value': (corr_ratio),\n",
    "        'p_level': (p_level),\n",
    "        'a_level': (a_level),\n",
    "        'F_calc': (F_corr_ratio_calc),\n",
    "        'F_table': (F_corr_ratio_table),\n",
    "        'F_calc >= F_table': (F_corr_ratio_calc >= F_corr_ratio_table),\n",
    "        'a_calc': (a_corr_ratio_calc),\n",
    "        'a_calc <= a_level': (a_corr_ratio_calc <= a_level),\n",
    "        'significance_check': (conclusion_corr_ratio_sign),\n",
    "        'conf_int_low': (corr_ratio_conf_int_low),\n",
    "        'conf_int_high': (corr_ratio_conf_int_high),\n",
    "        'scale': (conclusion_corr_ratio_scale)\n",
    "        },\n",
    "        index=['Correlation ratio'])\n",
    "    \n",
    "    return result        "
   ]
  },
  {
   "cell_type": "code",
   "execution_count": 82,
   "metadata": {},
   "outputs": [],
   "source": [
    "# Функция для проверка значимости линейной корреляционной связи\n",
    "def line_corr_sign_check(X, Y, p_level=0.95, orientation='XY'):\n",
    "    a_level = 1 - p_level\n",
    "    X = np.array(X)\n",
    "    Y = np.array(Y)\n",
    "    n_X = len(X)\n",
    "    n_Y = len(Y)    \n",
    "    # коэффициент корреляции\n",
    "    corr_coef = sci.stats.pearsonr(X, Y)[0]\n",
    "    # корреляционное отношение\n",
    "    try:\n",
    "        if orientation!='XY' and orientation!='YX':\n",
    "            raise ValueError(\"Error! Incorrect orientation!\")\n",
    "        if orientation=='XY':\n",
    "            corr_ratio = corr_ratio_check(X, Y, orientation='XY', scale='Evans')['coef_value'].values[0]\n",
    "        elif orientation=='YX':\n",
    "            corr_ratio = corr_ratio_check(X, Y, orientation='YX', scale='Evans')['coef_value'].values[0]\n",
    "    except ValueError as err:\n",
    "        print(err)\n",
    "    # проверка гипотезы о значимости линейной корреляционной связи\n",
    "    F_line_corr_sign_calc = (n_X - K_X)/(K_X - 2) * (corr_ratio**2 - corr_coef**2) / (1 - corr_ratio**2)\n",
    "    dfn = K_X - 2\n",
    "    dfd = n_X - K_X\n",
    "    F_line_corr_sign_table = sci.stats.f.ppf(p_level, dfn, dfd, loc=0, scale=1)\n",
    "    a_line_corr_sign_calc = 1 - sci.stats.f.cdf(F_line_corr_sign_calc, dfn, dfd, loc=0, scale=1)\n",
    "    conclusion_null_hypothesis_check = 'accepted' if F_line_corr_sign_calc < F_line_corr_sign_table else 'unaccepted'\n",
    "    conclusion_line_corr_sign = 'significance' if F_line_corr_sign_calc >= F_line_corr_sign_table else 'not significance'\n",
    "    \n",
    "    # формируем результат            \n",
    "    result = pd.DataFrame({\n",
    "        'corr.coef.': (corr_coef),\n",
    "        'corr.ratio.': (corr_ratio),\n",
    "        'null hypothesis': ('r\\u00b2 = ' + chr(951) + '\\u00b2'),\n",
    "        'p_level': (p_level),\n",
    "        'a_level': (a_level),\n",
    "        'F_calc': (F_line_corr_sign_calc),\n",
    "        'F_table': (F_line_corr_sign_table),\n",
    "        'F_calc >= F_table': (F_corr_ratio_calc >= F_corr_ratio_table),\n",
    "        'a_calc': (a_corr_ratio_calc),\n",
    "        'a_calc <= a_level': (a_corr_ratio_calc <= a_level),\n",
    "        'null_hypothesis_check': (conclusion_null_hypothesis_check),\n",
    "        'significance_line_corr_check': (conclusion_line_corr_sign),\n",
    "        },\n",
    "        index=['Significance of linear correlation'])\n",
    "    \n",
    "    return result"
   ]
  },
  {
   "cell_type": "code",
   "execution_count": 83,
   "metadata": {},
   "outputs": [
    {
     "data": {
      "text/html": [
       "<div>\n",
       "<style scoped>\n",
       "    .dataframe tbody tr th:only-of-type {\n",
       "        vertical-align: middle;\n",
       "    }\n",
       "\n",
       "    .dataframe tbody tr th {\n",
       "        vertical-align: top;\n",
       "    }\n",
       "\n",
       "    .dataframe thead th {\n",
       "        text-align: right;\n",
       "    }\n",
       "</style>\n",
       "<table border=\"1\" class=\"dataframe\">\n",
       "  <thead>\n",
       "    <tr style=\"text-align: right;\">\n",
       "      <th></th>\n",
       "      <th>notation</th>\n",
       "      <th>coef_value</th>\n",
       "      <th>p_level</th>\n",
       "      <th>a_level</th>\n",
       "      <th>t_calc</th>\n",
       "      <th>t_table</th>\n",
       "      <th>t_calc &gt;= t_table</th>\n",
       "      <th>a_calc</th>\n",
       "      <th>a_calc &lt;= a_level</th>\n",
       "      <th>significance_check</th>\n",
       "      <th>conf_int_low</th>\n",
       "      <th>conf_int_high</th>\n",
       "      <th>scale</th>\n",
       "    </tr>\n",
       "  </thead>\n",
       "  <tbody>\n",
       "    <tr>\n",
       "      <th>Correlation coef.</th>\n",
       "      <td>r</td>\n",
       "      <td>-0.7155</td>\n",
       "      <td>0.9500</td>\n",
       "      <td>0.0500</td>\n",
       "      <td>6.6370</td>\n",
       "      <td>2.0181</td>\n",
       "      <td>True</td>\n",
       "      <td>0.0000</td>\n",
       "      <td>True</td>\n",
       "      <td>significance</td>\n",
       "      <td>-0.8325</td>\n",
       "      <td>-0.5255</td>\n",
       "      <td>Evans: strong (0.6 &lt; |r| &lt;= 0.79)</td>\n",
       "    </tr>\n",
       "  </tbody>\n",
       "</table>\n",
       "</div>"
      ],
      "text/plain": [
       "                  notation  coef_value  p_level  a_level  t_calc  t_table  \\\n",
       "Correlation coef.        r     -0.7155   0.9500   0.0500  6.6370   2.0181   \n",
       "\n",
       "                   t_calc >= t_table  a_calc  a_calc <= a_level  \\\n",
       "Correlation coef.               True  0.0000               True   \n",
       "\n",
       "                  significance_check  conf_int_low  conf_int_high  \\\n",
       "Correlation coef.       significance       -0.8325        -0.5255   \n",
       "\n",
       "                                               scale  \n",
       "Correlation coef.  Evans: strong (0.6 < |r| <= 0.79)  "
      ]
     },
     "metadata": {},
     "output_type": "display_data"
    },
    {
     "data": {
      "text/html": [
       "<div>\n",
       "<style scoped>\n",
       "    .dataframe tbody tr th:only-of-type {\n",
       "        vertical-align: middle;\n",
       "    }\n",
       "\n",
       "    .dataframe tbody tr th {\n",
       "        vertical-align: top;\n",
       "    }\n",
       "\n",
       "    .dataframe thead th {\n",
       "        text-align: right;\n",
       "    }\n",
       "</style>\n",
       "<table border=\"1\" class=\"dataframe\">\n",
       "  <thead>\n",
       "    <tr style=\"text-align: right;\">\n",
       "      <th></th>\n",
       "      <th>notation</th>\n",
       "      <th>coef_value</th>\n",
       "      <th>p_level</th>\n",
       "      <th>a_level</th>\n",
       "      <th>F_calc</th>\n",
       "      <th>F_table</th>\n",
       "      <th>F_calc &gt;= F_table</th>\n",
       "      <th>a_calc</th>\n",
       "      <th>a_calc &lt;= a_level</th>\n",
       "      <th>significance_check</th>\n",
       "      <th>conf_int_low</th>\n",
       "      <th>conf_int_high</th>\n",
       "      <th>scale</th>\n",
       "    </tr>\n",
       "  </thead>\n",
       "  <tbody>\n",
       "    <tr>\n",
       "      <th>Correlation ratio</th>\n",
       "      <td>η</td>\n",
       "      <td>0.7797</td>\n",
       "      <td>0.9500</td>\n",
       "      <td>0.0500</td>\n",
       "      <td>11.7861</td>\n",
       "      <td>2.4625</td>\n",
       "      <td>True</td>\n",
       "      <td>0.0000</td>\n",
       "      <td>True</td>\n",
       "      <td>significance</td>\n",
       "      <td>0.7691</td>\n",
       "      <td>1</td>\n",
       "      <td>Evans: strong (0.6 &lt; |η| &lt;= 0.79)</td>\n",
       "    </tr>\n",
       "  </tbody>\n",
       "</table>\n",
       "</div>"
      ],
      "text/plain": [
       "                  notation  coef_value  p_level  a_level  F_calc  F_table  \\\n",
       "Correlation ratio        η      0.7797   0.9500   0.0500 11.7861   2.4625   \n",
       "\n",
       "                   F_calc >= F_table  a_calc  a_calc <= a_level  \\\n",
       "Correlation ratio               True  0.0000               True   \n",
       "\n",
       "                  significance_check  conf_int_low  conf_int_high  \\\n",
       "Correlation ratio       significance        0.7691              1   \n",
       "\n",
       "                                               scale  \n",
       "Correlation ratio  Evans: strong (0.6 < |η| <= 0.79)  "
      ]
     },
     "metadata": {},
     "output_type": "display_data"
    },
    {
     "data": {
      "text/html": [
       "<div>\n",
       "<style scoped>\n",
       "    .dataframe tbody tr th:only-of-type {\n",
       "        vertical-align: middle;\n",
       "    }\n",
       "\n",
       "    .dataframe tbody tr th {\n",
       "        vertical-align: top;\n",
       "    }\n",
       "\n",
       "    .dataframe thead th {\n",
       "        text-align: right;\n",
       "    }\n",
       "</style>\n",
       "<table border=\"1\" class=\"dataframe\">\n",
       "  <thead>\n",
       "    <tr style=\"text-align: right;\">\n",
       "      <th></th>\n",
       "      <th>corr.coef.</th>\n",
       "      <th>corr.ratio.</th>\n",
       "      <th>null hypothesis</th>\n",
       "      <th>p_level</th>\n",
       "      <th>a_level</th>\n",
       "      <th>F_calc</th>\n",
       "      <th>F_table</th>\n",
       "      <th>F_calc &gt;= F_table</th>\n",
       "      <th>a_calc</th>\n",
       "      <th>a_calc &lt;= a_level</th>\n",
       "      <th>null_hypothesis_check</th>\n",
       "      <th>significance_line_corr_check</th>\n",
       "    </tr>\n",
       "  </thead>\n",
       "  <tbody>\n",
       "    <tr>\n",
       "      <th>Significance of linear correlation</th>\n",
       "      <td>-0.7155</td>\n",
       "      <td>0.7797</td>\n",
       "      <td>r² = η²</td>\n",
       "      <td>0.9500</td>\n",
       "      <td>0.0500</td>\n",
       "      <td>2.3277</td>\n",
       "      <td>2.6190</td>\n",
       "      <td>True</td>\n",
       "      <td>0.0000</td>\n",
       "      <td>True</td>\n",
       "      <td>accepted</td>\n",
       "      <td>not significance</td>\n",
       "    </tr>\n",
       "  </tbody>\n",
       "</table>\n",
       "</div>"
      ],
      "text/plain": [
       "                                    corr.coef.  corr.ratio. null hypothesis  \\\n",
       "Significance of linear correlation     -0.7155       0.7797         r² = η²   \n",
       "\n",
       "                                    p_level  a_level  F_calc  F_table  \\\n",
       "Significance of linear correlation   0.9500   0.0500  2.3277   2.6190   \n",
       "\n",
       "                                    F_calc >= F_table  a_calc  \\\n",
       "Significance of linear correlation               True  0.0000   \n",
       "\n",
       "                                    a_calc <= a_level null_hypothesis_check  \\\n",
       "Significance of linear correlation               True              accepted   \n",
       "\n",
       "                                   significance_line_corr_check  \n",
       "Significance of linear correlation             not significance  "
      ]
     },
     "metadata": {},
     "output_type": "display_data"
    }
   ],
   "source": [
    "display(corr_coef_check(X, Y, scale='Evans'))\n",
    "display(corr_ratio_check(X, Y, orientation='XY', scale='Evans'))\n",
    "display(line_corr_sign_check(X, Y, orientation='XY'))"
   ]
  },
  {
   "cell_type": "markdown",
   "metadata": {},
   "source": [
    "Сделаем выводы по результатам расчетов:\n",
    "1. Между величинами существует значимая (**a<font size=\"1\">calc<font size=\"3\"><0.05**) корреляционная связь, корреляционное отношение **η = 0.77972** (т.е. связь **сильная** по Эвансу).\n",
    "2. Линейная корреляционная связь между величинами также значимая (**a<font size=\"1\">calc<font size=\"3\"><0.05**), отрицательная, коэффициент корреляции **r = -0.71548** (связь **сильная** по Эвансу).\n",
    "3. Гипотеза о равенстве корреляционного отношения и коэффициента корреляции принимается (**a<font size=\"1\">calc<font size=\"3\"><0.05**), то есть отличие линейной формы связи от нелинейной незначимо.\n",
    "\n"
   ]
  },
  {
   "cell_type": "markdown",
   "metadata": {},
   "source": [
    "### <center> <u> <font size=\"5\"> ***ИТОГИ***"
   ]
  },
  {
   "cell_type": "markdown",
   "metadata": {},
   "source": [
    "Итак, мы рассмотрели способы построения корреляционной таблицы, расчета корреляционного отношения, проверки его значимости и построения для него доверительных интервалов средствами **Python**. Также предложены пользовательские функции, уменьшающие размер кода.\n",
    "\n",
    "Исходный код находится в моем репозитории на GitHub (https://github.com/AANazarov/Statistical-methods)."
   ]
  },
  {
   "cell_type": "markdown",
   "metadata": {},
   "source": [
    "### <center> <u> <font size=\"5\"> ***ЛИТЕРАТУРА***"
   ]
  },
  {
   "cell_type": "markdown",
   "metadata": {},
   "source": [
    "1. Айвазян С.А. и др. Прикладная статистика: исследование зависимостей. - М.: Финансы и статистика, 1985. - 487 с.\n",
    "2. Айвазян С.А., Мхитарян В.С. Прикладная статистика. Основы эконометрики: В 2 т. - Т.1: Теория вероятностей и прикладная статистика. - М.: ЮНИТИ-ДАНА, 2001. - 656 с.\n",
    "3. Кобзарь А.И. Прикладная математическая статистика. Для инженеров и научных работников. - М.: ФИЗМАТЛИТ, 2006. - 816 с.\n",
    "4. Котеров А.Н. и др. Сила связи. Сообщение 2. Градации величины корреляции. - Медицинская радиология и радиационная безопасность. 2019. Том 64. № 6. с.12–24 (https://medradiol.fmbafmbc.ru/journal_medradiol/abstracts/2019/6/12-24_Koterov_et_al.pdf)."
   ]
  },
  {
   "cell_type": "code",
   "execution_count": 84,
   "metadata": {},
   "outputs": [
    {
     "name": "stdout",
     "output_type": "stream",
     "text": [
      "Общее время выполнения расчетов: 8.071 c\n"
     ]
    }
   ],
   "source": [
    "print(f\"Общее время выполнения расчетов: {round(time.time() - start_time, 3)} c\")"
   ]
  }
 ],
 "metadata": {
  "kernelspec": {
   "display_name": "Python 3.10.2 64-bit",
   "language": "python",
   "name": "python3"
  },
  "language_info": {
   "codemirror_mode": {
    "name": "ipython",
    "version": 3
   },
   "file_extension": ".py",
   "mimetype": "text/x-python",
   "name": "python",
   "nbconvert_exporter": "python",
   "pygments_lexer": "ipython3",
   "version": "3.10.2"
  },
  "orig_nbformat": 4,
  "vscode": {
   "interpreter": {
    "hash": "d99a3f7b344b3c3107482760db15f42178bfad658d282ab0a919b76809e13cb5"
   }
  }
 },
 "nbformat": 4,
 "nbformat_minor": 2
}
